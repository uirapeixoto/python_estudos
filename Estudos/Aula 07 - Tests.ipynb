{
 "cells": [
  {
   "cell_type": "markdown",
   "metadata": {},
   "source": [
    "# Aula 07 - Testes Estatísticos\n",
    "\n",
    "Nosso objetivo nessa aula é apresentar algumas ferramentas úteis para realizar testes estatísticos sobre nossas informações."
   ]
  },
  {
   "cell_type": "markdown",
   "metadata": {},
   "source": [
    "## Teste A/B\n",
    "\n",
    "Um teste A/B é um experimento com dois grupos que serve para estabelecer qual abordagem (um tratamento, produto, procedimento etc) é a melhor. Geralmente, um dos dois grupos é composto pelo tratamento padrão ou nenhum tratamento. Esse grupo é chamado de \"grupo de controle\". A hipótese a ser avaliada é se o novo tratamento apresenta melhores resultados do que o grupo de controle.\n",
    "\n",
    "Alguns exemplos de teste A/B:\n",
    "\n",
    "- Testar dois tratamentos para câncer para determinar qual é mais eficiente;\n",
    "- Testar dois preços em um mesmo produto para determinar qual resulta em um lucro maior (volume de vendas x lucro por unidade vendida); e\n",
    "- Testar duas propagandas na Internet para determinar qual gera mais conversões.\n",
    "\n",
    "A definição de quais sujeitos (elementos que serão submetidos ao teste - pessoas, visitantes de um site, objetos etc) irão compor qual grupo (grupo de controle ou grupo de tratamento) deve ser feita de forma aleatória. Dessa forma, sabemos que qualquer diferença de resultados entre os grupos se deve a uma das seguintes razões:\n",
    "\n",
    "- O efeito dos tratamentos diferentes ou\n",
    "- O sorteio realizado culminou em grupos desequilibrados, por sorte (um paciente com a saúde menos afetada que se recuperou rapidamente mesmo com o tratamento menos eficaz, por exemplo). Esse tipo de problema pode ser resolvido com uma escolha mais cuidadosa dos sujeitos do experimento.\n",
    "\n",
    "Também é necessário prestar atenção na métrica escolhida para avaliar os resultados. Geralmente, utilizamos uma métrica binária (paciente curado ou paciente não-curado, por exemplo). Esses resultados costumam ser representados em uma tabela no seguinte formato:\n",
    "\n",
    "|  Resultado | Tratamento A | Tratamento B |\n",
    "|:----------:|:------------:|:------------:|\n",
    "|   Curado   |     23587    |     15326    |\n",
    "| Não-curado |      521     |      125     |\n",
    "\n",
    "Iremos discutir sobre como avaliar esses números mais adiante.\n",
    "\n",
    "Uma dúvida comum que surge é a seguinte: porque devemos utilizar um grupo de controle? É intuitivo pensar que poderíamos apenas ignorá-lo e aplicar o novo tratamento a um grupo de sujeitos e comparar os resultados com os resultados antigos do tratamento anterior.\n",
    "\n",
    "A presença do grupo de controle nos garante igualdade de condições, ou seja, temos a certeza de que os dois grupos foram influenciados pelos mesmos fatores. Por exemplo, ao avaliar a quantidade de clicks em uma propaganda de cartão de crédito, devemos realizar os testes nos dois grupos para evitar efeitos diferentes relativos a sazonalidades como a Black Friday (que tem potencial para gerar mais clicks) ou uma crise econômica geral (pandemia). Se as métricas do grupo de tratamento forem medidas em período de Black Friday e logo em seguida forem comparadas com o tratamento anterior (que pode ter sido avaliado em um período de baixa demanda por cartões de crédito), a análise final não será confiável e, portanto, estará enviesada.\n",
    "\n",
    "Aqui, estamos nos atendo a apenas dois grupos (A e B). Entretanto, há uma outra abordagem muito utilizada quando queremos avaliar múltiplas alternativas, conhecida como Multi-Armed Bandit (MAB). Essa técnica será abordada na disciplina de aprendizado por reforço."
   ]
  },
  {
   "cell_type": "markdown",
   "metadata": {},
   "source": [
    "## Testes de Hipóteses\n",
    "\n",
    "Testes de hipóteses, também chamados de testes de significância, nos auxiliam na indicação sobre se um efeito observado foi puramente um evento ao acaso ou se realmente forma um padrão.\n",
    "\n",
    "Um teste A/B é construído tendo em mente uma certa hipótese (de que um tratamento é melhor do que outro). O teste de hipótese estatístico foi inventado como uma forma de proteger o pesquisador de ser enganado por uma ocorrência ao acaso.\n",
    "\n",
    "### Hipótese Nula\n",
    "\n",
    "Buscamos por uma prova de que a diferença encontrada entre os dois grupos é mais extrema do que o acaso provavelmente produziria, ou seja, assumimos que os efeitos observados se deram por acaso e não por um novo padrão.\n",
    "\n",
    "Hipótese nula: os efeitos observados se deram pelo acaso (não por conta de um padrão). Sendo assim, nosso objetivo é encontrar provas de que a hipótese nula é falsa, ou seja, queremos provar que os efeitos observados são indicação de um novo padrão, e não fruto do acaso.\n",
    "\n",
    "Sempre que formos montar um teste de hipóteses, precisamos de duas hipóteses (hipótese nula e hipótese alternativa) que sejam capazes de cobrir todas as possibilidades. Vejamos alguns exemplos:\n",
    "\n",
    "Caso 1:\n",
    "- Hipótese nula: não há diferença entre as médias dos grupos A e B\n",
    "- Hipótese alternativa: as médias dos grupos A e B são diferentes\n",
    "\n",
    "Caso 2:\n",
    "- Hipótese nula: o design da propaganda apresentada ao grupo B resulta em mais clicks do que o design da propaganda apresentada ao grupo A\n",
    "- Hipótese alternativa: o design da propaganda apresentada ao grupo B resulta em menos ou iguais quantidades de clicks do que o design da propaganda apresentada ao grupo A\n",
    "\n",
    "Uma dessas hipóteses, em cada caso, será tomada como verdadeira após o teste de hipóteses.\n",
    "\n",
    "# Significância Estatística e p-value\n",
    "\n",
    "Significância estatística é a forma com que o estatísticos medem se um experimento levou a resultados mais extremos do que o acaso provavelmente produziria, ou seja, se há um padrão. Se o resultado for superior à variação que o acaso provavelmente produziria, diz-se que o resultado é estatisticamente significante.\n",
    "\n",
    "Vamos utilizar um exemplo para explicar o processo desse tipo de análise (as imagens deste exemplo foram retiradas [desta página](https://towardsdatascience.com/an-intuitive-explanation-of-hypothesis-testing-and-p-values-8391db2c90f)).\n",
    "\n",
    "Considere uma empresa de venda de maçãs que gera relatórios sobre a qualidade de sua produção anualmente. Ao término de um ano, foi notada uma queda na qualidade das maçãs em relação ao ano anterior. A queda foi de 0.5 pontos em uma escala que vai de 1 até 10 pontos.\n",
    "\n",
    "A pergunta que queremos responder é: uma diferença de 0.5 é real ou é um produto do acaso? Ou seja, 0.5 é estatisticamente significante?\n",
    "\n",
    "Imagine que estamos analisando se uma maçã está boa ou não, utilizando uma seleção aleatória a partir de uma caixa gigante de maçãs. A imagem abaixo ilustra o efeito da realização de medições quando o tamanho das amostras é muito pequeno ou muito grande. Quanto maior for o tamanho da nossa amostra, menor será o efeito causado por uma única maçã ruim (a coluna na esquerda possui 50% das maçãs ruins e a da direita possui uma maçã ruim a menos do que a coluna da esquerda).\n",
    "\n",
    "<img src=\"imgs/apple_samples.jpeg\" width=\"500\" height=\"600\">\n",
    "\n",
    "Em uma amostra com apenas 2 maçãs, uma diferença de 0.5 indica 1 maçã ruim: algo muito provável de acontecer. Em uma amostra de 100 maçãs, 0.5 representa 50 maçãs ruins: uma diferença extremamente forte!\n",
    "\n",
    "Em uma amostra pequena, 0.5 não é uma diferença muito grande; mas, em uma amostra grande, 0.5 é uma grande diferença!\n",
    "\n",
    "Em uma caixa com 100 maçãs (população), tomamos uma amostra de 8 maçãs. A amostra que tomamos neste ano possui 5 maçãs ruins (62%); na amostra do ano passado de 8 maçãs, apenas 4 estavam ruins (50%). Queremos utilizar um teste de hipótese para determinar se a porcentagem de maçãs ruins na caixa de 100 maçãs é maior neste ano em relação ao ano passado.\n",
    "\n",
    "<img src=\"imgs/apple_samples_2.jpeg\" width=\"500\" height=\"600\">\n",
    "\n",
    "Para iniciar nossa análise, precisamos definir nossa hipótese de forma bem clara. Infelizmente, esse método serve somente para avaliar uma hipótese, não para criar hipóteses.\n",
    "\n",
    "Aqui está a hipótese que iremos avaliar (hipótese nula): a porcentagem de maçãs ruins neste ano é maior do que a porcentagem de maçãs ruins no ano passado.\n",
    "\n",
    "O p-value é o jeito padrão de formular o resultado de um teste de hipótese e é interpretado sempre da mesma forma: ele varia de 0 até 1 e nos diz se a diferença entre nossa amostra e a hipótese nula são significativamente diferentes. O valor de referência é 0.05.\n",
    "\n",
    "- A diferença *é significante* se o p-value for *menor do que 0.05*\n",
    "- A diferença *não é significante* se o p-value for *maior do que 0.05*\n",
    "\n",
    "Exemplo 1:\n",
    "- Jogamos uma moeda 10 vezes\n",
    "- Nossa hipótese: esperamos 5 caras\n",
    "- Nosso resultado: obtivemos 6 caras\n",
    "- O p-value é de 0.518, que é *maior* do que 0.05\n",
    "- Conclusão: a diferença *não é* significante\n",
    "- Interpretação: o resultado obtido *está* de acordo com a hipótese\n",
    "\n",
    "Exemplo 2:\n",
    "- Jogamos uma moeda 10 vezes\n",
    "- Nossa hipótese: esperamos 5 caras\n",
    "- Nosso resultado: obtivemos 10 caras\n",
    "- O p-value é de 0.0, que é *menor* do que 0.05\n",
    "- Conclusão: a diferença *é* significante\n",
    "- Interpretação: o resultado obtido *não está* de acordo com a hipótese\n",
    "\n",
    "Exemplo 3:\n",
    "- Testamos 10 maçãs\n",
    "- Nossa hipótese: esperamos 1 maçã ruim\n",
    "- Nosso resultado: obtivemos 1 maçã ruim\n",
    "- O p-value é de 1.0, que é *maior* do que 0.05\n",
    "- Conclusão: a diferença *não é* significante\n",
    "- Interpretação: o resultado obtido *está* de acordo com a hipótese\n",
    "\n",
    "Exemplo 4:\n",
    "- Testamos 10 maçãs\n",
    "- Nossa hipótese: esperamos 1 maçã ruim\n",
    "- Nosso resultado: obtivemos 5 maçãs ruins\n",
    "- O p-value é de 0.0114, que é *menor* do que 0.05\n",
    "- Conclusão: a diferença *é* significante\n",
    "- Interpretação: o resultado obtido *não está* de acordo com a hipótese\n",
    "\n",
    "Note que o tamanho da amostra é importante. Quanto maior for o tamanho da amostra, melhor.\n",
    "\n",
    "Em resumo:\n",
    "\n",
    "- p < 0.05 => recusamos nossa hipótese, pois o que observamos é significativamente diferente da nossa hipótese\n",
    "- p > 0.05 => aceitamos nossa hipótese, pois o que observamos não é significativamente diferente da nossa hipótese\n",
    "\n",
    "Mas como calculamos o p-value? Há diferentes formas de calcular o p-value, mas iremos utilizar apenas uma aqui: t-test.\n",
    "\n",
    "Aqui, precisamos que três condições sejam verdadeiras:\n",
    "\n",
    "1. As amostras devem ser totalmente aleatórias;\n",
    "2. Os dados devem estar minimamente distribuídos como uma normal; e\n",
    "3. As amostras devem ser independentes.\n",
    "\n",
    "$$\n",
    "t = \\frac{\\mu(hipotese) - \\mu(amostra)}{\\frac{\\sigma(amostra)}{\\sqrt(n)}}\n",
    "$$\n",
    "\n",
    ", sendo $n$ a quantidade de elementos dentro da nossa amostra.\n",
    "\n",
    "Numericamente, vamos montar um exemplo.\n",
    "\n",
    "$\\mu(hipotese) = 7.5$\n",
    "\n",
    "$\\mu(amostra) = 8$\n",
    "\n",
    "$\\sigma(amostra) = 0.7$\n",
    "\n",
    "$n = 10$\n",
    "\n",
    "Temos:\n",
    "\n",
    "$$\n",
    "t = \\frac{7.5 - 8}{\\frac{0.7}{\\sqrt(10)}} \\approx -2.26\n",
    "$$\n",
    "\n",
    "De posse do valor $t$, devemos procurar na tabela abaixo pela linha com a quantidade correta de graus de liberdade ($n - 1 = 9$) e verificar a coluna que possui um valor $\\geq |t|$, ou seja, $\\geq 2.26$.\n",
    "\n",
    "<img src=\"imgs/t table.png\" width=\"700\" height=\"800\">\n",
    "\n",
    "O que nos dá um p-value em torno de 0.025.\n",
    "\n",
    "Abaixo, fazemos um exemplo que utiliza uma amostra que possui média e desvio padrão indicados na tela e com 121 amostras. A nossa hipótese é que nossa população tem média 0.1.\n",
    "\n",
    "Note que o trecho de código abaixo calcula o p-value two-tailed, mas aqui nós utilizamos o one-tailed, ou seja, o valor do p-value que levaremos em consideração será a metade do p-value que ele retornar."
   ]
  },
  {
   "cell_type": "code",
   "execution_count": 1,
   "metadata": {},
   "outputs": [
    {
     "name": "stdout",
     "output_type": "stream",
     "text": [
      "Média da nossa amostra: [-0.06493215]\n",
      "Desvio padrão da nossa amostra: 0.9982060047650777\n",
      "Ttest_1sampResult(statistic=array([-1.80998826]), pvalue=array([0.07280021]))\n"
     ]
    }
   ],
   "source": [
    "from scipy import stats\n",
    "import numpy as np\n",
    "\n",
    "rvs = stats.norm.rvs(loc=0, scale=1, size=(121,1)) # 120 graus de liberdade\n",
    "sample_mean = sum(rvs)/len(rvs)\n",
    "sample_std = np.std(rvs)\n",
    "\n",
    "print(f'Média da nossa amostra: {sample_mean}')\n",
    "print(f'Desvio padrão da nossa amostra: {sample_std}')\n",
    "print(stats.ttest_1samp(rvs, 0.1)) # note na tabela que devemos procurar pelo t maior ou igual a 1.479...\n",
    "                                 # que dá ali um pouco antes do p = 0.05 (aproximadamente 0.07)."
   ]
  },
  {
   "cell_type": "markdown",
   "metadata": {},
   "source": [
    "## Erros Tipo 1 e Tipo 2\n",
    "\n",
    "Ao avaliar a significância estatística, dois possíveis erros podem ser cometidos:\n",
    "\n",
    "- Erro Tipo 1: concluir que um efeito é real, quando, na verdade, ele ocorreu pelo acaso; e\n",
    "- Erro Tipo 2: concluir que um efeito não é real (ocorreu pelo acaso), quando, na verdade, ele era real.\n",
    "\n",
    "O erro Tipo 2 não é um problema tão grande, pois ele pode ser cometido ao concluir que o tamanho da amostra é muito pequeno (o que seria uma amostra que pode ser considerada grande o suficiente? Pois é...). Quando o p-value indica baixa significância estatística (passa dos 5%), estamos dizendo, na verdade, \"efeito não provado\". Talvez uma amostra maior resultasse em um p-value menor.\n",
    "\n",
    "A utilidade básica do teste de significância (teste de hipótese) é proteger o pesquisador de ser enganado pelo acaso, ou seja, ele é estruturado para minimizar erros Tipo 1."
   ]
  },
  {
   "cell_type": "markdown",
   "metadata": {},
   "source": [
    "## ANOVA\n",
    "\n",
    "Suponha que agora, em vez de um Teste A/B, tenhamos múltiplos grupos, por exemplo, A/B/C/D. O procedimento para significância estatística para múltiplos grupos é chamado de análise de variância (_analysis of variance_), também conhecido como ANOVA.\n",
    "\n",
    "Os dados abaixo representam o tempo médio gasto por um visitante em cada página da web. Há um total de 5 visitantes."
   ]
  },
  {
   "cell_type": "code",
   "execution_count": 2,
   "metadata": {},
   "outputs": [
    {
     "data": {
      "text/html": [
       "<div>\n",
       "<style scoped>\n",
       "    .dataframe tbody tr th:only-of-type {\n",
       "        vertical-align: middle;\n",
       "    }\n",
       "\n",
       "    .dataframe tbody tr th {\n",
       "        vertical-align: top;\n",
       "    }\n",
       "\n",
       "    .dataframe thead th {\n",
       "        text-align: right;\n",
       "    }\n",
       "</style>\n",
       "<table border=\"1\" class=\"dataframe\">\n",
       "  <thead>\n",
       "    <tr style=\"text-align: right;\">\n",
       "      <th></th>\n",
       "      <th>Time</th>\n",
       "    </tr>\n",
       "    <tr>\n",
       "      <th>Page</th>\n",
       "      <th></th>\n",
       "    </tr>\n",
       "  </thead>\n",
       "  <tbody>\n",
       "    <tr>\n",
       "      <th>Page 1</th>\n",
       "      <td>172.8</td>\n",
       "    </tr>\n",
       "    <tr>\n",
       "      <th>Page 2</th>\n",
       "      <td>182.6</td>\n",
       "    </tr>\n",
       "    <tr>\n",
       "      <th>Page 3</th>\n",
       "      <td>175.6</td>\n",
       "    </tr>\n",
       "    <tr>\n",
       "      <th>Page 4</th>\n",
       "      <td>164.6</td>\n",
       "    </tr>\n",
       "  </tbody>\n",
       "</table>\n",
       "</div>"
      ],
      "text/plain": [
       "         Time\n",
       "Page         \n",
       "Page 1  172.8\n",
       "Page 2  182.6\n",
       "Page 3  175.6\n",
       "Page 4  164.6"
      ]
     },
     "execution_count": 2,
     "metadata": {},
     "output_type": "execute_result"
    }
   ],
   "source": [
    "import pandas as pd\n",
    "\n",
    "original_df = pd.read_csv('four_sessions.csv')\n",
    "df = original_df.groupby('Page').mean()\n",
    "\n",
    "df"
   ]
  },
  {
   "cell_type": "markdown",
   "metadata": {},
   "source": [
    "Assim como o p-value se baseia no cálculo da estatística T, a ANOVA se baseia da estatística F. Essa estatística se baseia na taxa da variância através das médias dos grupos. Quando maior for essa taxa, mais estatisticamente significante é o resultado.\n",
    "\n",
    "Vamos utilizar o statsmodels do Python para calcular a ANOVA."
   ]
  },
  {
   "cell_type": "code",
   "execution_count": 3,
   "metadata": {},
   "outputs": [
    {
     "name": "stdout",
     "output_type": "stream",
     "text": [
      "            df  sum_sq     mean_sq         F    PR(>F)\n",
      "Page       3.0   831.4  277.133333  2.739825  0.077586\n",
      "Residual  16.0  1618.4  101.150000       NaN       NaN\n"
     ]
    }
   ],
   "source": [
    "import statsmodels.api as sm\n",
    "import statsmodels.formula.api as smf\n",
    "\n",
    "model = smf.ols('Time ~ Page', data=original_df).fit()\n",
    "\n",
    "aov_table = sm.stats.anova_lm(model)\n",
    "print(aov_table)"
   ]
  },
  {
   "cell_type": "markdown",
   "metadata": {},
   "source": [
    "*df* indica graus de liberdade; *sum_sq*, soma dos quadrados; *mean_sq*, quadrados médios (mean squared deviations); *F*, a estatística F."
   ]
  },
  {
   "cell_type": "code",
   "execution_count": 4,
   "metadata": {},
   "outputs": [
    {
     "name": "stdout",
     "output_type": "stream",
     "text": [
      "F-Statistic: 1.3699\n",
      "p-value: 0.0388\n"
     ]
    }
   ],
   "source": [
    "res = stats.f_oneway(original_df[original_df.Page == 'Page 1'].Time, \n",
    "                     original_df[original_df.Page == 'Page 2'].Time,\n",
    "                     original_df[original_df.Page == 'Page 3'].Time,\n",
    "                     original_df[original_df.Page == 'Page 4'].Time)\n",
    "print(f'F-Statistic: {res.statistic / 2:.4f}')\n",
    "print(f'p-value: {res.pvalue / 2:.4f}')"
   ]
  },
  {
   "cell_type": "markdown",
   "metadata": {},
   "source": [
    "De acordo com o resultado acima, as diferenças observadas não são estatisticamente significativas."
   ]
  },
  {
   "cell_type": "markdown",
   "metadata": {},
   "source": [
    "## Exercícios\n",
    "\n",
    "Utilizando os datasets da aula anterior, realize as seguintes análises:\n",
    "\n",
    "1. Avalie se a seguinte hipótese é verdadeira: a média de dataset_1 é a mesma de dataset_2.\n",
    "\n",
    "2. Avalie se as diferenças entre os 3 datasets são estatisticamente significantes."
   ]
  }
 ],
 "metadata": {
  "kernelspec": {
   "display_name": "Python 3",
   "language": "python",
   "name": "python3"
  },
  "language_info": {
   "codemirror_mode": {
    "name": "ipython",
    "version": 3
   },
   "file_extension": ".py",
   "mimetype": "text/x-python",
   "name": "python",
   "nbconvert_exporter": "python",
   "pygments_lexer": "ipython3",
   "version": "3.8.2"
  }
 },
 "nbformat": 4,
 "nbformat_minor": 4
}

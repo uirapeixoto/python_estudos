{
  "cells": [
    {
      "cell_type": "markdown",
      "metadata": {
        "id": "b2j_lF0ZBhD7"
      },
      "source": [
        "# Aula 03 - Estatística Descritiva\n",
        "\n",
        "Nosso objetivo na aula de hoje é apresentar algumas métricas básicas para analisar dados."
      ]
    },
    {
      "cell_type": "markdown",
      "metadata": {
        "id": "e_qrV9ZrBhEA"
      },
      "source": [
        "## Estimativas de Localização\n",
        "\n",
        "Variáveis numéricas geralmente possuem centenas de valores distintos. Um passo importante no início da análise de cada feature é calcular o \"valor típico\" para ela, ou seja, uma estimativa de onde a maior parte de seus valores se concentra.\n",
        "\n",
        "A princípio, essa tarefa parece bem simples: calcular a média dos dados e pronto. Isso realmente é simples, mas nem sempre essa métrica é a melhor.\n",
        "\n",
        "Por essa razão, foram criadas algumas alternativas ao simples cálculo da média."
      ]
    },
    {
      "cell_type": "markdown",
      "metadata": {
        "id": "cY_MSXfMBhEC"
      },
      "source": [
        "### Média\n",
        "\n",
        "A média é a estimativa de localização mais simples. Ela é calculada por meio da soma de todos os valores dividida pela quantidade de valores.\n",
        "\n",
        "- Exemplo: vamos calcular a média do conjunto de números abaixo.\n",
        "\n",
        "{3 5 1 2}\n",
        "\n",
        "A média é calculada assim:\n",
        "\n",
        "(3 + 5 + 1 + 2) / 4 => 11 / 4 => 2.75\n",
        "\n",
        "Geralmente, a notação utilizada é a seguinte:\n",
        "\n",
        "- $x$ indica o conjunto de dados; e\n",
        "- $\\overline{x}$ indica a média do conjunto de dados $x$.\n",
        "\n",
        "Formalmente, a média é definida da seguinte forma:\n",
        "\n",
        "$$\n",
        "\\overline{x} = \\frac{\\sum_{i=1}^{n} x_{i}}{n},\n",
        "$$\n",
        "\n",
        "onde $n$ indica a quantidade total de elementos."
      ]
    },
    {
      "cell_type": "markdown",
      "metadata": {
        "id": "3DEzIWqQBhED"
      },
      "source": [
        "### Média Aparada (Trimmed Mean)\n",
        "\n",
        "A média aparada é uma variação da média simples.\n",
        "\n",
        "Em seu cálculo são desprezados os $p$ menores valores do conjunto de dados e os $p$ maiores valores. A média é então calculada utilizando apenas os elementos restantes.\n",
        "\n",
        "Formalmente, seu cálculo é o seguinte:\n",
        "\n",
        "$$\n",
        "\\overline{x} = \\frac{\\sum_{i=p+1}^{n-p} x_{i}}{n - 2p}\n",
        "$$\n",
        "\n",
        "A escolha do valor $p$ deve ser feita de forma a remover outliers. Um valor bem aceito para $p$ é de $10\\%$ do tamanho da base de dados.\n",
        "\n",
        "Essa média elimina a influência de valores extremos (outliers).\n",
        "\n",
        "- Exemplo: considere o conjunto de dados abaixo.\n",
        "\n",
        "{5000 40 30 -9 55 45 900 -10}\n",
        "\n",
        "O primeiro passo para calcular a média aparada consiste em ordenar os dados:\n",
        "\n",
        "{-10 -9 30 40 45 55 900 5000}\n",
        "\n",
        "Aqui, utilizaremos $p = 2$, ou seja, os 2 valores mais baixos e os 2 mais altos serão descartados. Sendo assim, o conjunto de dados se torna:\n",
        "\n",
        "{30 40 45 55}\n",
        "\n",
        "E, assim, a média aparada é:\n",
        "\n",
        "$$\n",
        "\\overline{x} = \\frac{30 + 40 + 45 + 55}{4} = \\frac{170}{4} = 42.5\n",
        "$$\n",
        "\n",
        "- Aplicação: em competições internacionais de saltos ornamentais, a nota mais alta e a mais baixa, dentre os 5 juízes, são desprezadas. A nota final é calculada como a média das 3 notas restantes. Isso é feito para dificultar a manipulação de resultados, pois algum juíz poderia tentar manipular os resultados para favorecer seu próprio país."
      ]
    },
    {
      "cell_type": "markdown",
      "metadata": {
        "id": "qX0n_2blBhEF"
      },
      "source": [
        "### Média Ponderada\n",
        "\n",
        "Por fim, temos também a média ponderada. Ela é calculda por meio da multiplicação de cada elemento por um peso especificado pelo usuário e, então, o resultado é dividido pela soma dos pesos.\n",
        "\n",
        "Eis sua definição:\n",
        "\n",
        "$$\n",
        "\\overline{x}_{w} = \\frac{\\sum_{i=1}^{n} w_{i}x_{i}}{\\sum_{i=1}^{n} w_{i}},\n",
        "$$\n",
        "\n",
        "sendo $w_{i}$ o peso que multiplica o i-ésimo dado.\n",
        "\n",
        "A definição dos pesos é algo a ser feito de acordo com cada situação.\n",
        "\n",
        "Há duas motivações principais para se utilzar a média ponderada:\n",
        "- Alguns valores são intrinsicamente mais variáveis do que outros. Valores altamente variáveis costumam receber pesos menores. Por exemplo: ao realizar medições utilizando múltiplos sensores, aquele que for menos confiável deveria receber uma importância menor do que os outros.\n",
        "- Os dados coletados não representam igualmente os diferentes grupos existentes. Por exemplo: a maioria das transações de cartões de créditos são legítimas, sendo a minoria fraudulenta. Sendo assim, temos pouquíssimos exemplos de transações fraudulentas. Para corrigir isso, podemos atribuir pesos maiores a essas transações (que estão subrepresentadas)."
      ]
    },
    {
      "cell_type": "markdown",
      "metadata": {
        "id": "5YMeLLN-BhEG"
      },
      "source": [
        "## Mediana e Estimativas Robustas\n",
        "\n",
        "A mediana é o número que fica no meio dos dados ordenados, ou seja, é o ponto que divide os dados ordenados em duas partes de mesmo tamanho.\n",
        "\n",
        "Caso o conjunto de dados possua uma quantidade par de observações, o valor da mediana não pertence ao dataset, sendo ele uma média dos dois valores que dividem os dados ordenados em duas metades.\n",
        "\n",
        "Comparada com a média (que utiliza todos os valores), a mediana depende apenas dos valores no centro do conjunto de dados ordenado. Isso pode ser uma vantagem dependendo da situação.\n",
        "\n",
        "- Exemplo: considere o conjunto de dados abaixo.\n",
        "\n",
        "{-10 -9 30 40 45 55 900 5000}\n",
        "\n",
        "Já que o conjunto já está ordenado e possui uma quantidade par de elementos, sua mediana é o valor que divide o conjunto em duas partes de mesmo tamanho. Nesse caso, seria a média entre os números 40 e 45: a mediana é o valor 42.5\n",
        "\n",
        ">Note que obtivemos o mesmo valor da média aparada!\n",
        "\n",
        "- Aplicação: queremos analisar a renda familiar nas vizinhanças de Lake Washington, em Seattle. Ao comparar o bairro de Medina com o de Windermere utilizando a média, os resultados seriam bem diferentes, pois Bill Gates mora em Medina. Se utilizarmos a mediana, a renda de Bill Gates não terá efeito na análise, por mais rico que ele seja."
      ]
    },
    {
      "cell_type": "markdown",
      "metadata": {
        "id": "Oo4JMGGTBhEH"
      },
      "source": [
        "## Exemplo\n",
        "\n",
        "Vamos utilizar uma base de dados que mostra a relação entre população e taxa de assassinato."
      ]
    },
    {
      "cell_type": "code",
      "execution_count": null,
      "metadata": {
        "id": "qyOmo9ZTBhEI"
      },
      "outputs": [],
      "source": [
        "import pandas as pd"
      ]
    },
    {
      "cell_type": "code",
      "execution_count": null,
      "metadata": {
        "id": "5IQ0pNRYBhEK"
      },
      "outputs": [],
      "source": [
        "df = pd.read_csv('state.csv')"
      ]
    },
    {
      "cell_type": "code",
      "execution_count": null,
      "metadata": {
        "id": "8S18_3fmBhEL",
        "outputId": "5f150134-f0f6-4762-fd9b-2da627923f3c"
      },
      "outputs": [
        {
          "data": {
            "text/html": [
              "<div>\n",
              "<style scoped>\n",
              "    .dataframe tbody tr th:only-of-type {\n",
              "        vertical-align: middle;\n",
              "    }\n",
              "\n",
              "    .dataframe tbody tr th {\n",
              "        vertical-align: top;\n",
              "    }\n",
              "\n",
              "    .dataframe thead th {\n",
              "        text-align: right;\n",
              "    }\n",
              "</style>\n",
              "<table border=\"1\" class=\"dataframe\">\n",
              "  <thead>\n",
              "    <tr style=\"text-align: right;\">\n",
              "      <th></th>\n",
              "      <th>State</th>\n",
              "      <th>Population</th>\n",
              "      <th>Murder.Rate</th>\n",
              "      <th>Abbreviation</th>\n",
              "    </tr>\n",
              "  </thead>\n",
              "  <tbody>\n",
              "    <tr>\n",
              "      <th>0</th>\n",
              "      <td>Alabama</td>\n",
              "      <td>4779736</td>\n",
              "      <td>5.7</td>\n",
              "      <td>AL</td>\n",
              "    </tr>\n",
              "    <tr>\n",
              "      <th>1</th>\n",
              "      <td>Alaska</td>\n",
              "      <td>710231</td>\n",
              "      <td>5.6</td>\n",
              "      <td>AK</td>\n",
              "    </tr>\n",
              "    <tr>\n",
              "      <th>2</th>\n",
              "      <td>Arizona</td>\n",
              "      <td>6392017</td>\n",
              "      <td>4.7</td>\n",
              "      <td>AZ</td>\n",
              "    </tr>\n",
              "    <tr>\n",
              "      <th>3</th>\n",
              "      <td>Arkansas</td>\n",
              "      <td>2915918</td>\n",
              "      <td>5.6</td>\n",
              "      <td>AR</td>\n",
              "    </tr>\n",
              "    <tr>\n",
              "      <th>4</th>\n",
              "      <td>California</td>\n",
              "      <td>37253956</td>\n",
              "      <td>4.4</td>\n",
              "      <td>CA</td>\n",
              "    </tr>\n",
              "  </tbody>\n",
              "</table>\n",
              "</div>"
            ],
            "text/plain": [
              "        State  Population  Murder.Rate Abbreviation\n",
              "0     Alabama     4779736          5.7           AL\n",
              "1      Alaska      710231          5.6           AK\n",
              "2     Arizona     6392017          4.7           AZ\n",
              "3    Arkansas     2915918          5.6           AR\n",
              "4  California    37253956          4.4           CA"
            ]
          },
          "execution_count": 3,
          "metadata": {},
          "output_type": "execute_result"
        }
      ],
      "source": [
        "df.head()"
      ]
    },
    {
      "cell_type": "markdown",
      "metadata": {
        "id": "-ACGnvS5BhEM"
      },
      "source": [
        "Em Python, os cálculos das principais métricas são bem simples:"
      ]
    },
    {
      "cell_type": "code",
      "execution_count": null,
      "metadata": {
        "id": "kfs5od3MBhEN",
        "outputId": "7f0e41a4-5c5a-4e03-c8b7-c0d0ae9422b2"
      },
      "outputs": [
        {
          "name": "stdout",
          "output_type": "stream",
          "text": [
            "A média de Population é 6162876.3\n"
          ]
        }
      ],
      "source": [
        "mean = df['Population'].mean()\n",
        "\n",
        "print(f'A média de Population é {mean}')"
      ]
    },
    {
      "cell_type": "code",
      "execution_count": null,
      "metadata": {
        "id": "zzCrCfIzBhEN",
        "outputId": "3ba6bbab-9f83-4f1e-cd97-124d142c6e21"
      },
      "outputs": [
        {
          "name": "stdout",
          "output_type": "stream",
          "text": [
            "A média aparada de Population é 4783697.125\n"
          ]
        }
      ],
      "source": [
        "from scipy.stats import trim_mean\n",
        "\n",
        "trimmed_mean = trim_mean(df['Population'], 0.1)\n",
        "\n",
        "print(f'A média aparada de Population é {trimmed_mean}')"
      ]
    },
    {
      "cell_type": "code",
      "execution_count": null,
      "metadata": {
        "id": "eZcjTlEuBhEO",
        "outputId": "1bc6b8f6-34b8-46f6-88ed-14f47a046666"
      },
      "outputs": [
        {
          "name": "stdout",
          "output_type": "stream",
          "text": [
            "A mediana de Population é 4436369.5\n"
          ]
        }
      ],
      "source": [
        "median = df['Population'].median()\n",
        "\n",
        "print(f'A mediana de Population é {median}')"
      ]
    },
    {
      "cell_type": "markdown",
      "metadata": {
        "id": "w4QADxerBhEP"
      },
      "source": [
        "A média é maior do que a média aparada, que é maior do que a mediana.\n",
        "\n",
        "Isso acontece porque a média aparada exclui os 5 maiores e menores estados (10% em cada extremidade).\n",
        "\n",
        "Se quisermos calcular a taxa média de assassinato no país, devemos utilizar a média ponderada ou a mediana ponderada (pois há diferentes populações para diferentes estados)."
      ]
    },
    {
      "cell_type": "code",
      "execution_count": null,
      "metadata": {
        "id": "GvFHX4NrBhEP",
        "outputId": "089a9854-c73b-4a37-d5a1-b8c308900068"
      },
      "outputs": [
        {
          "name": "stdout",
          "output_type": "stream",
          "text": [
            "A média ponderada da taxa de assassinato é 4.445833981123393\n",
            "A mediana ponderada da taxa de assassinato é 4.4\n"
          ]
        }
      ],
      "source": [
        "import numpy as np\n",
        "import wquantiles\n",
        "\n",
        "weighted_mean = np.average(df['Murder.Rate'], weights=df['Population'])\n",
        "weighted_median = wquantiles.median(df['Murder.Rate'], weights=df['Population'])\n",
        "\n",
        "print(f'A média ponderada da taxa de assassinato é {weighted_mean}')\n",
        "print(f'A mediana ponderada da taxa de assassinato é {weighted_median}')"
      ]
    },
    {
      "cell_type": "markdown",
      "metadata": {
        "id": "2PLAie82BhEP"
      },
      "source": [
        "Note que a métrica básica de localização é a média, porém ela é sensível a valores extremos (outliers).\n",
        "\n",
        "Por conta disso, outras métricas são menos sensíveis a outliers e, por isso, mais robustas."
      ]
    },
    {
      "cell_type": "markdown",
      "metadata": {
        "id": "MdwfK5mrBhEQ"
      },
      "source": [
        "## Estimativas de Variabilidade\n",
        "\n",
        "Um sinônimo para \"variabilidade\" é \"dispersão\". Essa métrica nos indica o quão espalhados ou concentrados são os dados. Eles se acumulam fortemente em torno de um valor ou se apresentam de forma bem espalhada?"
      ]
    },
    {
      "cell_type": "markdown",
      "metadata": {
        "id": "Bjd-RIcDBhER"
      },
      "source": [
        "### Desvio Padrão\n",
        "\n",
        "Essa é a métrica de variabilidade mais comumente utilizada. Ela se baseia nas diferenças entre a estimativa de localização e o dado observado.\n",
        "\n",
        "Considere o conjunto de dados abaixo:\n",
        "\n",
        "{7, 10, 3, 4, 1}\n",
        "\n",
        "A média desses dados é 5 e a mediana é 4 (pois os dados ordenados ficam {1, 3, 4, 7, 10} ).\n",
        "\n",
        "Os desvios em relação à média são obtidos a partir das diferenças entre cada valor e a média:\n",
        "\n",
        "- 7  - 5 =  2\n",
        "- 10 - 5 =  5\n",
        "- 3  - 5 = -2\n",
        "- 4  - 5 = -1\n",
        "- 1  - 5 = -4\n",
        "\n",
        "Uma forma de se medir a variabilidade seria calcular a média desses desvios. Isso não seria uma boa abordagem, pois a presença de valores negativos e positivos pode resultar em um valor enganoso... Um dataset com os valores {-10, 10} nos daria uma média 0. Os desvios de cada elemento seriam -10 e 10, respectivamente. Sendo assim, a variabilidade, medida a partir da média dos desvios, nos daria o valor 0, indicando que os dados estão concentrados na média, o que não é verdade!\n",
        "\n",
        "Uma forma de resolver esse problema seria utilizar a média dos valores absolutos dos desvios. No nosso exemplo, os valores absolutos dos desvios seriam {2, 5, 2, 1, 4} e sua média se tornaria 2.8.\n",
        "\n",
        "Chamamos essa métrica de *desvio absoluto médio* e a calculamos conforme a fórmula abaixo.\n",
        "\n",
        "$$\n",
        "desvio\\_absoluto\\_medio = \\frac{\\sum_{i=1}^{n} |x_{i} - \\overline{x}|}{n},\n",
        "$$\n",
        "\n",
        "onde $\\overline{x}$ é a média do dataset e $n$ é a quantidade de observações no dataset.\n",
        "\n",
        "As estimativas de variabilidade mais comumente utilizadas são a *variância* e o *desvio padrão*. Ambos se baseiam nos quadrados dos desvios.\n",
        "\n",
        "A variância é a média dos quadrados dos desvios, conforme abaixo.\n",
        "\n",
        "$$\n",
        "variancia = s^{2} = \\frac{\\sum_{i=1}^{n} (x_{i} - \\overline{x})^{2}}{n - 1}\n",
        "$$\n",
        "\n",
        "Note que aqui a potência possui duas funções: eliminar os valores negativos e dar maior importância às maiores diferenças.\n",
        "\n",
        "O desvio padrão, por sua vez, é a raiz quadrada da variância, conforme abaixo.\n",
        "\n",
        "$$\n",
        "desvio\\_padrao = s = \\sqrt{s^{2}}\n",
        "$$\n",
        "\n",
        "O desvio padrão é a métrica geralmente utilizada, pois sua interpretação é muito mais fácil. Isso se dá pelo fato de ela estar na mesma escala dos dados originais (pois tiramos a raiz quadrada).\n",
        "\n",
        "A razão para utilizarmos o desvio padrão em vez do desvio absoluto médio vem da teoria estatística: matematicamente, trabalhar com valores ao quadrado é mais conveniente do que trabalhar com valores absolutos, ainda mais para modelos estatísticos.\n",
        "\n",
        ">Você deve ter notado que o cálculo da variância utiliza $n - 1$ em vez de $n$. No fim das contas, geralmente, a base de dados é grande o suficiente para que o uso de $n - 1$ ou $n$ tenha um impacto ínfimo. Se utilizarmos o denominador $n$, estaremos subestimando o valor real e, portanto, é dito que a estimativa está enviesada. O uso de $n - 1$ torna o cálculo não enviesado. A explicação disso passa pelo conceito de graus de liberdade, que deixo aqui como uma leitura extra: [aqui](https://www.infoescola.com/estatistica/variancia-e-desvio-padrao/#:~:text=O%20denominador%20%E2%80%9Cn%20%E2%80%93%201%E2%80%9D,%C3%A9%20constantemente%20utilizado%20na%20estat%C3%ADstica.).\n",
        "\n",
        "Note que nenhuma dessas métricas é robusta a outliers, ou seja, valores extremos causam grandes mudanças em seus cálculos. Uma solução para esse problema, é aplicar a técnica aparada (conforme vimos anteriormente). Por conta disso, vamos ainda analisar outra métrica de variabilidade."
      ]
    },
    {
      "cell_type": "markdown",
      "metadata": {
        "id": "q9juPQY1BhES"
      },
      "source": [
        "### Desvio Absoluto Mediano da Mediana\n",
        "\n",
        "Essa métrica recebe a sigla de MAD. Ela utiliza a mediana em seu cálculo, que não é influenciada por valores extremos.\n",
        "\n",
        "Seu cálculo é simples:\n",
        "\n",
        "$$\n",
        "MAD = mediana(|x_{1} - m|, |x_{2} - m|, ..., |x_{n} - m|),\n",
        "$$\n",
        "\n",
        "onde $m$ é a mediana do dataset."
      ]
    },
    {
      "cell_type": "markdown",
      "metadata": {
        "id": "q6flXFB_BhES"
      },
      "source": [
        "## Correlação\n",
        "\n",
        "Essa análise busca avaliar o quanto uma característica influencia em outra. Duas variáveis, X e Y, são ditas positivamente correlacionadas se valores altos em X ocorrem com valores altos em Y e valores baixos em X ocorrem com valores baixos em Y. Por outro lado, diz-se que elas são negativamente correlacionadas se valores altos em X ocorrem com valores baixos de Y, e vice versa.\n",
        "\n",
        "Temos aqui o coeficiente de correlação, que nos fornece uma estimativa da correlação entre duas variáveis. Utilizaremos o *coeficiente de correlação de Pearson*. Esse coeficiente sempre assumirá valores entre $+1$ (correlação positiva perfeita) e $-1$ (correlação negativa perfeita). $0$ indica que não há correlação.\n",
        "\n",
        "Esse coeficiente é representado por $r$ e é calculado conforme a fórmula abaixo.\n",
        "\n",
        "$$\n",
        "r = \\frac{\\sum_{i=1}^{n} (x_{i} - \\overline{x})(y_{i} - \\overline{y})}{(n - 1)s_{x}s_{y}},\n",
        "$$\n",
        "\n",
        "sendo $\\overline{x}$ e $\\overline{y}$ as médias dos conjuntos $x$ e $y$, respectivamente; e $s_{x}$ e $s_{y}$, os desvios padrões de $x$ e $y$, respectivamente.\n",
        "\n",
        "Note que esse coeficiente analisa correlações lineares, ou seja, caso as variáveis se relacionem de forma não linear, este coeficiente pode não ser muito útil."
      ]
    },
    {
      "cell_type": "markdown",
      "metadata": {
        "id": "JdFmPI2IBhET"
      },
      "source": [
        "### Exemplo\n",
        "\n",
        "Vamos utilizar o dataframe abaixo, com valores manipulados, para realizar uma análise de correlação."
      ]
    },
    {
      "cell_type": "code",
      "execution_count": null,
      "metadata": {
        "id": "EhvvyAwlBhET",
        "outputId": "3830ec13-ccd5-40bb-bb81-6f59fec0ddc8"
      },
      "outputs": [
        {
          "data": {
            "text/html": [
              "<div>\n",
              "<style scoped>\n",
              "    .dataframe tbody tr th:only-of-type {\n",
              "        vertical-align: middle;\n",
              "    }\n",
              "\n",
              "    .dataframe tbody tr th {\n",
              "        vertical-align: top;\n",
              "    }\n",
              "\n",
              "    .dataframe thead th {\n",
              "        text-align: right;\n",
              "    }\n",
              "</style>\n",
              "<table border=\"1\" class=\"dataframe\">\n",
              "  <thead>\n",
              "    <tr style=\"text-align: right;\">\n",
              "      <th></th>\n",
              "      <th>A</th>\n",
              "      <th>B</th>\n",
              "      <th>C</th>\n",
              "    </tr>\n",
              "  </thead>\n",
              "  <tbody>\n",
              "    <tr>\n",
              "      <th>0</th>\n",
              "      <td>45</td>\n",
              "      <td>38</td>\n",
              "      <td>10</td>\n",
              "    </tr>\n",
              "    <tr>\n",
              "      <th>1</th>\n",
              "      <td>37</td>\n",
              "      <td>31</td>\n",
              "      <td>15</td>\n",
              "    </tr>\n",
              "    <tr>\n",
              "      <th>2</th>\n",
              "      <td>42</td>\n",
              "      <td>26</td>\n",
              "      <td>17</td>\n",
              "    </tr>\n",
              "    <tr>\n",
              "      <th>3</th>\n",
              "      <td>35</td>\n",
              "      <td>28</td>\n",
              "      <td>21</td>\n",
              "    </tr>\n",
              "    <tr>\n",
              "      <th>4</th>\n",
              "      <td>39</td>\n",
              "      <td>33</td>\n",
              "      <td>12</td>\n",
              "    </tr>\n",
              "  </tbody>\n",
              "</table>\n",
              "</div>"
            ],
            "text/plain": [
              "    A   B   C\n",
              "0  45  38  10\n",
              "1  37  31  15\n",
              "2  42  26  17\n",
              "3  35  28  21\n",
              "4  39  33  12"
            ]
          },
          "execution_count": 8,
          "metadata": {},
          "output_type": "execute_result"
        }
      ],
      "source": [
        "data = {'A': [45, 37, 42, 35, 39],\n",
        "        'B': [38, 31, 26, 28, 33],\n",
        "        'C': [10, 15, 17, 21, 12]\n",
        "        }\n",
        "\n",
        "df = pd.DataFrame(data)\n",
        "df"
      ]
    },
    {
      "cell_type": "markdown",
      "metadata": {
        "id": "xr3JMRujBhEU"
      },
      "source": [
        "Em Python, podemos calcular a correlação entre cada uma das nossas colunas com apenas uma linha de código.\n",
        "\n",
        "Note que o resultado é uma matriz de correlação, que nos mostra a correlação entre cada coluna dos nossos dados.\n",
        "\n",
        "Note as seguinte propriedades:\n",
        "\n",
        "- A diagonal principal possui apenas valores $1$. Qual a razão disso?\n",
        "- Os elementos acima da diagonal principal e os elementos abaixo da diagonal principal são idênticos. Qual a razão disso?"
      ]
    },
    {
      "cell_type": "code",
      "execution_count": null,
      "metadata": {
        "id": "OLXfdq1KBhEU",
        "outputId": "65f3804c-fcc1-45ed-ed9c-add8ee9ba722"
      },
      "outputs": [
        {
          "data": {
            "text/html": [
              "<div>\n",
              "<style scoped>\n",
              "    .dataframe tbody tr th:only-of-type {\n",
              "        vertical-align: middle;\n",
              "    }\n",
              "\n",
              "    .dataframe tbody tr th {\n",
              "        vertical-align: top;\n",
              "    }\n",
              "\n",
              "    .dataframe thead th {\n",
              "        text-align: right;\n",
              "    }\n",
              "</style>\n",
              "<table border=\"1\" class=\"dataframe\">\n",
              "  <thead>\n",
              "    <tr style=\"text-align: right;\">\n",
              "      <th></th>\n",
              "      <th>A</th>\n",
              "      <th>B</th>\n",
              "      <th>C</th>\n",
              "    </tr>\n",
              "  </thead>\n",
              "  <tbody>\n",
              "    <tr>\n",
              "      <th>A</th>\n",
              "      <td>1.000000</td>\n",
              "      <td>0.518457</td>\n",
              "      <td>-0.701886</td>\n",
              "    </tr>\n",
              "    <tr>\n",
              "      <th>B</th>\n",
              "      <td>0.518457</td>\n",
              "      <td>1.000000</td>\n",
              "      <td>-0.860941</td>\n",
              "    </tr>\n",
              "    <tr>\n",
              "      <th>C</th>\n",
              "      <td>-0.701886</td>\n",
              "      <td>-0.860941</td>\n",
              "      <td>1.000000</td>\n",
              "    </tr>\n",
              "  </tbody>\n",
              "</table>\n",
              "</div>"
            ],
            "text/plain": [
              "          A         B         C\n",
              "A  1.000000  0.518457 -0.701886\n",
              "B  0.518457  1.000000 -0.860941\n",
              "C -0.701886 -0.860941  1.000000"
            ]
          },
          "execution_count": 9,
          "metadata": {},
          "output_type": "execute_result"
        }
      ],
      "source": [
        "df.corr()"
      ]
    },
    {
      "cell_type": "markdown",
      "metadata": {
        "id": "HpmudblmBhEU"
      },
      "source": [
        "Quais os elementos que estão mais fortemente correlacionados?"
      ]
    },
    {
      "cell_type": "markdown",
      "metadata": {
        "id": "3RJ5epoFBhEV"
      },
      "source": [
        "Além disso, também é interessante visualizar essa matriz por meio de um mapa de calor (heatmap)."
      ]
    },
    {
      "cell_type": "code",
      "execution_count": null,
      "metadata": {
        "id": "CZsD5r3iBhEV",
        "outputId": "a03cbb76-6062-47b9-c509-2ffe43285afd"
      },
      "outputs": [
        {
          "data": {
            "image/png": "[encoded data removed]",
            "text/plain": [
              "<Figure size 432x288 with 2 Axes>"
            ]
          },
          "metadata": {
            "needs_background": "light"
          },
          "output_type": "display_data"
        }
      ],
      "source": [
        "import seaborn as sn\n",
        "import matplotlib.pyplot as plt\n",
        "\n",
        "corr_matrix = df.corr()\n",
        "sn.heatmap(corr_matrix, annot=True)\n",
        "plt.show()"
      ]
    },
    {
      "cell_type": "markdown",
      "metadata": {
        "id": "w9tT_NYzBhEV"
      },
      "source": [
        "## Exercícios\n",
        "\n",
        "Utilizando o arquivo 'dataset.csv' fornecido junto com este notebook, realize as tarefas abaixo.\n",
        "\n",
        "1. Calcule a média, média aparada e a mediana de cada coluna;\n",
        "2. Calcule o desvio absoluto médio, variância, desvio padrão e o MAD de cada coluna;\n",
        "3. Calcule e exiba a matriz de correlação dos dados, em forma de mapa de calor; e\n",
        "4. Discorra a respeito de suas descobertas, ou seja, quais conclusões podem ser tiradas a partir dos seus resultados?\n",
        "\n",
        "Observação: você tem liberdade para utilizar as bibliotecas em Python que julgar necessárias."
      ]
    }
  ],
  "metadata": {
    "kernelspec": {
      "display_name": "Python 3",
      "language": "python",
      "name": "python3"
    },
    "language_info": {
      "codemirror_mode": {
        "name": "ipython",
        "version": 3
      },
      "file_extension": ".py",
      "mimetype": "text/x-python",
      "name": "python",
      "nbconvert_exporter": "python",
      "pygments_lexer": "ipython3",
      "version": "3.8.2"
    },
    "colab": {
      "name": "Aula 03 - Statistics 101.ipynb",
      "provenance": []
    }
  },
  "nbformat": 4,
  "nbformat_minor": 0
}
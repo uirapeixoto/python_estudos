{
  "cells": [
    {
      "cell_type": "markdown",
      "metadata": {
        "id": "9wLV6A6dBRe8"
      },
      "source": [
        "# Aula 02 - Python 101"
      ]
    },
    {
      "cell_type": "markdown",
      "metadata": {
        "id": "iZtP-AnEBRe_"
      },
      "source": [
        "## Listas"
      ]
    },
    {
      "cell_type": "markdown",
      "metadata": {
        "id": "rGBKjyY5BRfA"
      },
      "source": [
        "Listas são similares a vetores e arrays de outras linguagens, ou seja, uma lista é simplesmente uma sequência de elementos separados por vírgulas. Os elementos de uma lista devem ser envolvidos por ``[]``."
      ]
    },
    {
      "cell_type": "markdown",
      "metadata": {
        "id": "2I7vLNVZBRfB"
      },
      "source": [
        "Como criar uma lista vazia:"
      ]
    },
    {
      "cell_type": "code",
      "execution_count": null,
      "metadata": {
        "id": "454qHOAtBRfB"
      },
      "outputs": [],
      "source": [
        "lista = []\n",
        "lista"
      ]
    },
    {
      "cell_type": "markdown",
      "metadata": {
        "id": "fBsVwX8lBRfD"
      },
      "source": [
        "ou"
      ]
    },
    {
      "cell_type": "code",
      "execution_count": null,
      "metadata": {
        "id": "ecgWgQnxBRfD"
      },
      "outputs": [],
      "source": [
        "lista = list()\n",
        "lista"
      ]
    },
    {
      "cell_type": "markdown",
      "metadata": {
        "id": "G9OpHXGEBRfE"
      },
      "source": [
        "Vamos criar algumas listas. Elas podem ser formadas por quaisquer tipos de dados."
      ]
    },
    {
      "cell_type": "code",
      "execution_count": null,
      "metadata": {
        "id": "pnRZ4jeYBRfF"
      },
      "outputs": [],
      "source": [
        "lista1 = [1, 2, 3]\n",
        "lista2 = ['a', 'b', 'c', 'd']\n",
        "lista3 = ['a', 127, 42, 'chora, bebê!']\n",
        "\n",
        "print(lista1)\n",
        "print(lista2)\n",
        "print(lista3)"
      ]
    },
    {
      "cell_type": "markdown",
      "metadata": {
        "id": "yf7jQA8EBRfG"
      },
      "source": [
        "Podemos ver o tamanho de uma lista por meio da função ``len()``."
      ]
    },
    {
      "cell_type": "code",
      "execution_count": null,
      "metadata": {
        "id": "BHOANBNxBRfH"
      },
      "outputs": [],
      "source": [
        "len(lista3)"
      ]
    },
    {
      "cell_type": "markdown",
      "metadata": {
        "id": "IMEY3aBSBRfH"
      },
      "source": [
        "Também podemos concatenar (juntar) duas ou mais listas. Basta utilizar o símbolo de soma."
      ]
    },
    {
      "cell_type": "code",
      "execution_count": null,
      "metadata": {
        "id": "p9m6csWaBRfI"
      },
      "outputs": [],
      "source": [
        "lista4 = lista1 + lista2\n",
        "\n",
        "lista4"
      ]
    },
    {
      "cell_type": "markdown",
      "metadata": {
        "id": "FAZvd3HLBRfI"
      },
      "source": [
        "Também é possível ordenar uma lista. Entretanto, para isso, todos os elementos da lista precisam ser do mesmo tipo."
      ]
    },
    {
      "cell_type": "code",
      "execution_count": null,
      "metadata": {
        "id": "eD7QnA_yBRfI"
      },
      "outputs": [],
      "source": [
        "lista5 = [4, 3, 2, 1]\n",
        "lista5.sort()\n",
        "lista5"
      ]
    },
    {
      "cell_type": "markdown",
      "metadata": {
        "id": "fi8hlNxCBRfJ"
      },
      "source": [
        "Também podemos acessar cada elemento de acordo com sua posição. Chamamos a \"posição\" de cada elemento de \"índice\". O primeiro elemento possui índice 0; o segundo, índice 1 e por aí vai.\n",
        "\n",
        "Sendo assim, uma lista com 10 elementos possui as seguintes características: o primeiro elemento possui índice 0 e o último possui índice 9."
      ]
    },
    {
      "cell_type": "code",
      "execution_count": null,
      "metadata": {
        "id": "YlgyV2CTBRfJ"
      },
      "outputs": [],
      "source": [
        "lista2[0]"
      ]
    },
    {
      "cell_type": "code",
      "execution_count": null,
      "metadata": {
        "id": "Cfp9ZtAsBRfJ"
      },
      "outputs": [],
      "source": [
        "lista2[3]"
      ]
    },
    {
      "cell_type": "code",
      "execution_count": null,
      "metadata": {
        "id": "Poi2KndlBRfK"
      },
      "outputs": [],
      "source": [
        "lista2[1]"
      ]
    },
    {
      "cell_type": "code",
      "execution_count": null,
      "metadata": {
        "id": "NLxekf8YBRfK"
      },
      "outputs": [],
      "source": [
        "lista2[-1]"
      ]
    },
    {
      "cell_type": "markdown",
      "metadata": {
        "id": "qdJo8haLBRfL"
      },
      "source": [
        "Algo que é muito útil é a utilização de apenas uma parte da lista. Chamamos isso de slicing. Utilizamos a sintaxe ``lista[x:y]`` e isso indica que serão selecionados os elementos desde o índice ``x`` até o índice ``y - 1``. Veja um exemplo:"
      ]
    },
    {
      "cell_type": "code",
      "execution_count": null,
      "metadata": {
        "id": "U0D3taDTBRfL"
      },
      "outputs": [],
      "source": [
        "lista_louca = list(range(15))\n",
        "\n",
        "print(lista_louca)\n",
        "\n",
        "sub_lista_louca = lista_louca[2:9] # vamos pegar apenas os elementos de 2 até 8\n",
        "\n",
        "print(sub_lista_louca)"
      ]
    },
    {
      "cell_type": "markdown",
      "metadata": {
        "id": "cMF-wd1mBRfL"
      },
      "source": [
        "## Tuplas"
      ]
    },
    {
      "cell_type": "markdown",
      "metadata": {
        "id": "kRCZQdLnBRfM"
      },
      "source": [
        "Tuplas são a estrutura mais simples que podemos encontrar no Python. Elas são similares a listas, porém elas são delimitadas por parênteses ``()``. A diferença entre tuplas e listas é que as tuplas são imutáveis, ou seja, depois de criadas, não podem ser alteradas. As listas, por sua vez, podem ser alteradas."
      ]
    },
    {
      "cell_type": "code",
      "execution_count": null,
      "metadata": {
        "id": "RvbFiTUxBRfM"
      },
      "outputs": [],
      "source": [
        "tupla1 = (1, 2, 3, 4, 5)\n",
        "print(tupla1)\n",
        "\n",
        "print(tupla1[0:3])"
      ]
    },
    {
      "cell_type": "markdown",
      "metadata": {
        "id": "QC--XxJ2BRfM"
      },
      "source": [
        "Veja que a célula abaixo resulta em erro."
      ]
    },
    {
      "cell_type": "code",
      "execution_count": null,
      "metadata": {
        "id": "nvIbZc-eBRfM"
      },
      "outputs": [],
      "source": [
        "tupla1[0] = 9\n",
        "\n",
        "tupla1"
      ]
    },
    {
      "cell_type": "markdown",
      "metadata": {
        "id": "rBBOF33MBRfN"
      },
      "source": [
        "## Dicionários"
      ]
    },
    {
      "cell_type": "markdown",
      "metadata": {
        "id": "kAzM1NW7BRfN"
      },
      "source": [
        "Essa estrutura é similar a uma tabela hash, ou seja, iremos associar um valor a uma chave. Aqui, o índice não é definido de acordo com a posição do elemento na tabela, mas sim de acordo com a sua chave (que pode ser um número ou até mesmo uma letra ou palavra).\n",
        "\n",
        "Note que aqui usamos ``{}`` para delimitar o dicionário.\n",
        "\n",
        "Importante: cada chave/índice só pode ocorrer uma única vez dentro de um dicionário."
      ]
    },
    {
      "cell_type": "markdown",
      "metadata": {
        "id": "VEg_i2f5BRfN"
      },
      "source": [
        "Como criar um dicionário vazio:"
      ]
    },
    {
      "cell_type": "code",
      "execution_count": null,
      "metadata": {
        "id": "lB_b9zEPBRfN"
      },
      "outputs": [],
      "source": [
        "dicionario = {}\n",
        "dicionario"
      ]
    },
    {
      "cell_type": "markdown",
      "metadata": {
        "id": "B4vuPCEbBRfO"
      },
      "source": [
        "ou"
      ]
    },
    {
      "cell_type": "code",
      "execution_count": null,
      "metadata": {
        "id": "cMXxDGw4BRfO"
      },
      "outputs": [],
      "source": [
        "dicionario = dict()\n",
        "dicionario"
      ]
    },
    {
      "cell_type": "markdown",
      "metadata": {
        "id": "3Wm87NeTBRfO"
      },
      "source": [
        "Vamos criar um dicionário com alguns valores..."
      ]
    },
    {
      "cell_type": "code",
      "execution_count": null,
      "metadata": {
        "id": "FzUiE7AvBRfO"
      },
      "outputs": [],
      "source": [
        "meu_dicionario = {'a': 12,\n",
        "                  'b': 100,\n",
        "                  'f': 95}\n",
        "\n",
        "meu_dicionario"
      ]
    },
    {
      "cell_type": "markdown",
      "metadata": {
        "id": "y4ugmNHXBRfO"
      },
      "source": [
        "Veja como podemos acessar o valor que está associado à letra ``b``: utilizamos a mesma sintaxe que usamos para realizar indexação em listas e tuplas."
      ]
    },
    {
      "cell_type": "code",
      "execution_count": null,
      "metadata": {
        "id": "spBIO1S3BRfP"
      },
      "outputs": [],
      "source": [
        "meu_dicionario['b']"
      ]
    },
    {
      "cell_type": "markdown",
      "metadata": {
        "id": "6ZvgYdzQBRfP"
      },
      "source": [
        "Outro exemplo:"
      ]
    },
    {
      "cell_type": "code",
      "execution_count": null,
      "metadata": {
        "id": "EakHKwgCBRfP"
      },
      "outputs": [],
      "source": [
        "pessoa = {'nome': 'Mateus Mendelson', 'idade': 27, 'peso': 'gostoso'}\n",
        "\n",
        "print(f'Meu nome é {pessoa[\"nome\"]}, tenho {pessoa[\"idade\"]} anos e aqui está o meu peso: {pessoa[\"peso\"]}')"
      ]
    },
    {
      "cell_type": "markdown",
      "metadata": {
        "id": "qZSUBHSPBRfP"
      },
      "source": [
        "Também podemos checar se uma chave está no dicionário:"
      ]
    },
    {
      "cell_type": "code",
      "execution_count": null,
      "metadata": {
        "id": "-PAW4o30BRfQ"
      },
      "outputs": [],
      "source": [
        "if 'nome' in pessoa:\n",
        "    print('A pessoa tem nome')\n",
        "else:\n",
        "    print('A pessoa não tem nome!')"
      ]
    },
    {
      "cell_type": "markdown",
      "metadata": {
        "id": "81tYgyFLBRfQ"
      },
      "source": [
        "Para adicionar uma nova chave, basta realizar a atribuição como se ela já existisse:"
      ]
    },
    {
      "cell_type": "code",
      "execution_count": null,
      "metadata": {
        "id": "PfiS4BzKBRfQ"
      },
      "outputs": [],
      "source": [
        "pessoa['cor dos olhos'] = 'verde'\n",
        "\n",
        "pessoa"
      ]
    },
    {
      "cell_type": "markdown",
      "metadata": {
        "id": "oFTCrDwLBRfQ"
      },
      "source": [
        "Por fim, podemos também pegar a listagem das chaves de um dicionário:"
      ]
    },
    {
      "cell_type": "code",
      "execution_count": null,
      "metadata": {
        "id": "RuQJ0r2HBRfQ"
      },
      "outputs": [],
      "source": [
        "pessoa.keys()"
      ]
    },
    {
      "cell_type": "code",
      "execution_count": null,
      "metadata": {
        "id": "JW9WzTgxBRfQ"
      },
      "outputs": [],
      "source": [
        "list(pessoa.keys())"
      ]
    },
    {
      "cell_type": "markdown",
      "metadata": {
        "id": "6l6UkLDnBRfR"
      },
      "source": [
        "## Funções - revisão e incrementos"
      ]
    },
    {
      "cell_type": "markdown",
      "metadata": {
        "id": "oD7hq_VdBRfR"
      },
      "source": [
        "Função são nada mais, nada menos do que um bloco de código ao qual damos um nome. A grande vantagem é que escrevemos aquele código apenas uma vez e, então, podemos utilizá-lo por quantas vezes quisermos.\n",
        "\n",
        "Para criar uma função, devemos primeiro definí-la. Precisamos de 4 elementos para isso:\n",
        "- O uso da palavra reservada ``def``\n",
        "- O identificador da função (um nome para ela)\n",
        "- Seus parâmetros entre parênteses\n",
        "- Seu corpo\n",
        "\n",
        "A célula abaixo define uma função que calcula o valor de ``1 + 2`` e o imprime na tela. Note que ela apenas define a função. Ela só é executada na celula seguinte."
      ]
    },
    {
      "cell_type": "code",
      "execution_count": null,
      "metadata": {
        "id": "E2QnLmDeBRfR"
      },
      "outputs": [],
      "source": [
        "def soma():\n",
        "    resultado = 1 + 2\n",
        "    print(f'O resultado é {resultado}')"
      ]
    },
    {
      "cell_type": "code",
      "execution_count": null,
      "metadata": {
        "id": "tNbz3fmtBRfR"
      },
      "outputs": [],
      "source": [
        "soma()"
      ]
    },
    {
      "cell_type": "markdown",
      "metadata": {
        "id": "xazBWf0SBRfR"
      },
      "source": [
        "Também é possível parametrizar os valores que a função irá utilizar. Para isso, basta adicionar os nomes dos parâmetros na definição da função e utilizá-los como variáveis."
      ]
    },
    {
      "cell_type": "code",
      "execution_count": null,
      "metadata": {
        "id": "eFvINZMPBRfS"
      },
      "outputs": [],
      "source": [
        "def somar_dois_numeros(numero1, numero2):\n",
        "    resultado = numero1 + numero2\n",
        "    print(f'A soma de {numero1} com {numero2} é igual a {resultado}')"
      ]
    },
    {
      "cell_type": "code",
      "execution_count": null,
      "metadata": {
        "id": "Iidekms5BRfS"
      },
      "outputs": [],
      "source": [
        "somar_dois_numeros(7, 10)"
      ]
    },
    {
      "cell_type": "markdown",
      "metadata": {
        "id": "rFr8d69WBRfS"
      },
      "source": [
        "Outro recurso muito útil é a definição de valores padrões para alguns parâmetros. Veja abaixo."
      ]
    },
    {
      "cell_type": "code",
      "execution_count": null,
      "metadata": {
        "id": "utLi9mHxBRfS"
      },
      "outputs": [],
      "source": [
        "def somar(valor_inicial, valor_a_ser_somado=1):\n",
        "    resultado = valor_inicial + valor_a_ser_somado\n",
        "    print(f'O resultado é {resultado}')"
      ]
    },
    {
      "cell_type": "code",
      "execution_count": null,
      "metadata": {
        "id": "cWjyJ2FsBRfS"
      },
      "outputs": [],
      "source": [
        "somar(10)"
      ]
    },
    {
      "cell_type": "code",
      "execution_count": null,
      "metadata": {
        "id": "bLT2ZI6WBRfT"
      },
      "outputs": [],
      "source": [
        "somar(10, 5)"
      ]
    },
    {
      "cell_type": "markdown",
      "metadata": {
        "id": "9uzwBB1ZBRfT"
      },
      "source": [
        "Por fim, o recurso que mais iremos utilizar não é a impressão do valor na tela. Geralmente, queremos realizar um cálculo e armazenar seu resultado em uma variável. Para isso, utilizamos a palavra reserva ``return``, que serve para retornar o resultado obtido dentro de uma função. Em Python, é possível retornar quantos valores quisermos."
      ]
    },
    {
      "cell_type": "code",
      "execution_count": null,
      "metadata": {
        "id": "CIKiy_RBBRfT"
      },
      "outputs": [],
      "source": [
        "def somar_elementos_lista(lista):\n",
        "    total = 0\n",
        "    for elemento in lista:\n",
        "        total += elemento\n",
        "        \n",
        "    return total\n",
        "\n",
        "def juntar_listas_e_somar_elementos(lista1, lista2):\n",
        "    lista3 = lista1 + lista2\n",
        "    soma_elementos = somar_elementos_lista(lista3)\n",
        "    \n",
        "    return lista3, soma_elementos"
      ]
    },
    {
      "cell_type": "code",
      "execution_count": null,
      "metadata": {
        "id": "LN_8XAqlBRfT"
      },
      "outputs": [],
      "source": [
        "primeira_lista = [1, 2, 3]\n",
        "segunda_lista = [4, 5, 6]\n",
        "\n",
        "juntar_listas_e_somar_elementos(primeira_lista, segunda_lista)"
      ]
    },
    {
      "cell_type": "markdown",
      "metadata": {
        "id": "MYbyh-q6BRfT"
      },
      "source": [
        "Note, na saída da célula acima, que quando uma função retorna mais de um elemento, os elementos são retornados como uma tupla (delimitados por parênteses). Podemos armazenar esses valores de retorno de duas formas:"
      ]
    },
    {
      "cell_type": "code",
      "execution_count": null,
      "metadata": {
        "id": "3c7EaH3hBRfU"
      },
      "outputs": [],
      "source": [
        "(lista_final, soma_lista) = juntar_listas_e_somar_elementos(primeira_lista, segunda_lista)\n",
        "\n",
        "print(lista_final)\n",
        "print(soma_lista)"
      ]
    },
    {
      "cell_type": "markdown",
      "metadata": {
        "id": "gwuzQDB-BRfU"
      },
      "source": [
        "ou"
      ]
    },
    {
      "cell_type": "code",
      "execution_count": null,
      "metadata": {
        "id": "_PQjGSoTBRfU"
      },
      "outputs": [],
      "source": [
        "lista_final, soma_lista = juntar_listas_e_somar_elementos(primeira_lista, segunda_lista)\n",
        "\n",
        "print(lista_final)\n",
        "print(soma_lista)"
      ]
    },
    {
      "cell_type": "markdown",
      "metadata": {
        "id": "zESYeCsTBRfU"
      },
      "source": [
        "## DataFrames"
      ]
    },
    {
      "cell_type": "markdown",
      "metadata": {
        "id": "fspze3I0BRfU"
      },
      "source": [
        "DataFrame é uma estrutura de dados disponibilizada através do pacote Pandas, um dos mais populares para Ciência de Dados em Python.\n",
        "\n",
        "Pense que um DataFrame é uma tabela de dados. Cada linha dessa tabela representa uma entrada de dados e cada coluna representa uma característica desse dado.\n",
        "\n",
        "A primeira coisa que iremos fazer é carregar nossos dados a partir de um arquivo csv. A função ``read_csv`` possui vários parâmetros, veja-os [aqui](https://pandas.pydata.org/pandas-docs/stable/reference/api/pandas.read_csv.html)."
      ]
    },
    {
      "cell_type": "code",
      "execution_count": null,
      "metadata": {
        "id": "HKqHrnGxBRfU"
      },
      "outputs": [],
      "source": [
        "import pandas as pd"
      ]
    },
    {
      "cell_type": "code",
      "execution_count": null,
      "metadata": {
        "id": "WYKi3FLDBRfU"
      },
      "outputs": [],
      "source": [
        "df = pd.read_csv('data/us-counties-covid-19-dataset.csv')\n",
        "\n",
        "df.head(15)"
      ]
    },
    {
      "cell_type": "code",
      "execution_count": null,
      "metadata": {
        "id": "9HBwXpPrBRfW"
      },
      "outputs": [],
      "source": [
        "df.shape"
      ]
    },
    {
      "cell_type": "markdown",
      "metadata": {
        "id": "RyHMwZ8cBRfW"
      },
      "source": [
        "### Acessando elementos via índice\n",
        "\n",
        "Podemos acessar linhas e colunas específicas de acordo com seus índices. Para isso, podemos utilizar os métodos ``iloc`` (utilizando apenas índices numéricos) ou ``loc`` (utilizando os nomes dos índices).\n",
        "\n",
        "Suponha que queremos acessar a linha 2 e a coluna ``cases``, que nos dá o valor ``1``. Podemos fazer isso de duas formas:"
      ]
    },
    {
      "cell_type": "code",
      "execution_count": null,
      "metadata": {
        "id": "AqET5zLnBRfW"
      },
      "outputs": [],
      "source": [
        "print(df.iloc[2][4]) # note que usamos o índice 4 para a coluna \"cases\""
      ]
    },
    {
      "cell_type": "code",
      "execution_count": null,
      "metadata": {
        "id": "ESKuBvNvBRfX"
      },
      "outputs": [],
      "source": [
        "print(df.loc[2]['cases']) # note que usamos o próprio nome da coluna \"cases\""
      ]
    },
    {
      "cell_type": "markdown",
      "metadata": {
        "id": "t-_4V30NBRfX"
      },
      "source": [
        "Também podemos selecionar uma linha inteira ou uma coluna inteira."
      ]
    },
    {
      "cell_type": "code",
      "execution_count": null,
      "metadata": {
        "id": "Mxcaug4ZBRfX"
      },
      "outputs": [],
      "source": [
        "print(df.loc[2])"
      ]
    },
    {
      "cell_type": "code",
      "execution_count": null,
      "metadata": {
        "id": "86Ss_Mn4BRfX"
      },
      "outputs": [],
      "source": [
        "print(df['cases'])"
      ]
    },
    {
      "cell_type": "markdown",
      "metadata": {
        "id": "FynKteH8BRfX"
      },
      "source": [
        "### Adicionando uma nova linha\n",
        "\n",
        "Vamos adicionar uma nova linha ao nosso DataFrame. Aqui, iremos adicionar no final e, para isso, vamos utilizar o método ``tail`` para a nossa análise."
      ]
    },
    {
      "cell_type": "code",
      "execution_count": null,
      "metadata": {
        "id": "p8hntGnpBRfX"
      },
      "outputs": [],
      "source": [
        "df.tail()"
      ]
    },
    {
      "cell_type": "code",
      "execution_count": null,
      "metadata": {
        "id": "UZ86LoOgBRfX"
      },
      "outputs": [],
      "source": [
        "df.loc[45880] = ['2020-04-09', 'LUGAR NOVO', 'ESTADO NOVO', 50000, 1, 0]"
      ]
    },
    {
      "cell_type": "code",
      "execution_count": null,
      "metadata": {
        "id": "_e9Z0wRmBRfY"
      },
      "outputs": [],
      "source": [
        "df.tail()"
      ]
    },
    {
      "cell_type": "markdown",
      "metadata": {
        "id": "RM0ml9F3BRfY"
      },
      "source": [
        "### Adicionando uma nova coluna\n",
        "\n",
        "Para adicionar uma nova coluna, precisamos ter uma lista de elementos com a mesma quantidade de linhas que o DataFrame possui para que a adição tenha sucesso."
      ]
    },
    {
      "cell_type": "code",
      "execution_count": null,
      "metadata": {
        "id": "nT6ro6bpBRfY"
      },
      "outputs": [],
      "source": [
        "dados_nova_coluna = [195]*df.shape[0] # estamos criando uma lista que possui o valor 195 aparecendo por 45881 vezes\n",
        "\n",
        "# dados_nova_coluna"
      ]
    },
    {
      "cell_type": "code",
      "execution_count": null,
      "metadata": {
        "id": "6kjqiQdnBRfY"
      },
      "outputs": [],
      "source": [
        "df['nova_coluna'] = dados_nova_coluna\n",
        "\n",
        "df.head()"
      ]
    },
    {
      "cell_type": "markdown",
      "metadata": {
        "id": "dVlW2aNvBRfY"
      },
      "source": [
        "### Deletando colunas e linhas\n",
        "\n",
        "Também pode vir a ser útil a tarefa de deletar uma ou mais colunas do nosso DataFrame. Para isso, utilizamos o método ``drop``."
      ]
    },
    {
      "cell_type": "code",
      "execution_count": null,
      "metadata": {
        "id": "QHrcxAU1BRfY"
      },
      "outputs": [],
      "source": [
        "novo_df = df.drop(['deaths', 'nova_coluna'], axis=1)\n",
        "\n",
        "# Também podemos realizar a remoção alterando a própria variável.\n",
        "# Para isso, basta utilizar o parâmetro \"inplace\" como \"True\".\n",
        "# df.drop(['deaths', 'nova_coluna'], axis=1, inplace=True)\n",
        "\n",
        "novo_df.head()"
      ]
    },
    {
      "cell_type": "markdown",
      "metadata": {
        "id": "ejooHK6gBRfY"
      },
      "source": [
        "Da mesma forma que podemos deletar uma coluna, também podemos deletar uma linha de acordo com seu índice."
      ]
    },
    {
      "cell_type": "code",
      "execution_count": null,
      "metadata": {
        "id": "Nx-ohiS_BRfZ"
      },
      "outputs": [],
      "source": [
        "linha_removida_df = df.drop([0], axis=0)\n",
        "\n",
        "linha_removida_df.head()"
      ]
    },
    {
      "cell_type": "markdown",
      "metadata": {
        "id": "vXAk213bBRfZ"
      },
      "source": [
        "### Aplicando uma operação sobre o DataFrame\n",
        "\n",
        "Podemos aplicar uma operação a todos os elementos de uma coluna ou linha. Basta utilizar o método ``apply``."
      ]
    },
    {
      "cell_type": "code",
      "execution_count": null,
      "metadata": {
        "id": "kWU8pNFmBRfZ"
      },
      "outputs": [],
      "source": [
        "def dobrar_valor(x):\n",
        "    return 2*x"
      ]
    },
    {
      "cell_type": "code",
      "execution_count": null,
      "metadata": {
        "id": "-LX2-Pm9BRfZ"
      },
      "outputs": [],
      "source": [
        "# Dobrando os valores de uma coluna\n",
        "novo_df['cases'] = novo_df['cases'].apply(dobrar_valor)\n",
        "\n",
        "novo_df.head()"
      ]
    },
    {
      "cell_type": "code",
      "execution_count": null,
      "metadata": {
        "id": "ewtoPxFmBRfZ"
      },
      "outputs": [],
      "source": [
        "# Dobrando os valores de uma linha\n",
        "novo_df.loc[0] = novo_df.loc[0].apply(dobrar_valor)\n",
        "\n",
        "novo_df.head()"
      ]
    },
    {
      "cell_type": "markdown",
      "metadata": {
        "id": "X_FE4e3HBRfZ"
      },
      "source": [
        "### Agrupamento\n",
        "\n",
        "Outro recurso muito útil é o agrupamento de acordo com os valores de uma coluna. Por exemplo, iremos agrupar aqui todos os dados de acordo com o condado e iremos somar os valores das outras colunas.\n",
        "\n",
        "Podemos aplicar diversos cálculos aqui, não apenas a soma dos elementos, como ``count`` e ``mean``. Também é possível aplicar uma operação para cada coluna individualmente (deixo aqui como um exercícios para vocês a pesquisa sobre como realizar essa tarefa)."
      ]
    },
    {
      "cell_type": "code",
      "execution_count": null,
      "metadata": {
        "id": "-EC5alY8BRfa"
      },
      "outputs": [],
      "source": [
        "agrupado_df = df.groupby(by='county').sum()\n",
        "\n",
        "agrupado_df.head()"
      ]
    },
    {
      "cell_type": "markdown",
      "metadata": {
        "id": "ry9v74mEBRfa"
      },
      "source": [
        "### Ordenação\n",
        "\n",
        "Também é possível ordenar um DataFrame de acordo com os valores de suas colunas. Por exemplo, vamos ordenar nossos dados de acordo com a quantidade de mortes."
      ]
    },
    {
      "cell_type": "code",
      "execution_count": null,
      "metadata": {
        "id": "G5hvJSeABRfa"
      },
      "outputs": [],
      "source": [
        "agrupado_df.sort_values(by=['deaths'], ascending=False)"
      ]
    },
    {
      "cell_type": "markdown",
      "metadata": {
        "id": "DyqNiplwBRfa"
      },
      "source": [
        "### Valores vazios\n",
        "\n",
        "Há situações em que a nossa base de dados possui alguns dados faltantes ou inválidos. O que representa essa situação é o ``NaN``.\n",
        "\n",
        "Primeiro, vamos contar quantos valores nulos temos em cada coluna."
      ]
    },
    {
      "cell_type": "code",
      "execution_count": null,
      "metadata": {
        "id": "3AlKQCOhBRfa"
      },
      "outputs": [],
      "source": [
        "df.isna().sum()"
      ]
    },
    {
      "cell_type": "markdown",
      "metadata": {
        "id": "x3a4Flc4BRfa"
      },
      "source": [
        "A coluna ``fips`` possui 626 entradas inválidas. Vamos dar uma olhada nessas colunas."
      ]
    },
    {
      "cell_type": "code",
      "execution_count": null,
      "metadata": {
        "id": "fOJOE2aUBRfa"
      },
      "outputs": [],
      "source": [
        "df[df['fips'].isnull()]"
      ]
    },
    {
      "cell_type": "markdown",
      "metadata": {
        "id": "Be2RRvc8BRfa"
      },
      "source": [
        "Realmente temos valores nulos... Como podemos lidar com isso?\n",
        "\n",
        "Aqui, iremos lidar com três possíveis abordagens:\n",
        "- Substituir os valores nulos por algum outro valor (zero, a média dos valores existentes etc)\n",
        "- Remover as linhas que possuem valores nulos\n",
        "- Remover a coluna que possui valores nulos"
      ]
    },
    {
      "cell_type": "markdown",
      "metadata": {
        "id": "x6-saZzOBRfb"
      },
      "source": [
        "A primeira abordagem é extremamente simples. Iremos substituir os valores nulos pela média dos valores encontrados nessa coluna."
      ]
    },
    {
      "cell_type": "code",
      "execution_count": null,
      "metadata": {
        "id": "UJTy8m5aBRfb"
      },
      "outputs": [],
      "source": [
        "media = df['fips'].mean()\n",
        "\n",
        "media"
      ]
    },
    {
      "cell_type": "code",
      "execution_count": null,
      "metadata": {
        "id": "_bbRDcT4BRfb"
      },
      "outputs": [],
      "source": [
        "novo_df = df.fillna(media)"
      ]
    },
    {
      "cell_type": "code",
      "execution_count": null,
      "metadata": {
        "id": "U4xN6beMBRfb"
      },
      "outputs": [],
      "source": [
        "novo_df.isna().sum()"
      ]
    },
    {
      "cell_type": "markdown",
      "metadata": {
        "id": "YdgIccsxBRfb"
      },
      "source": [
        "Pronto, já não temos mais nenhum valor nulo."
      ]
    },
    {
      "cell_type": "markdown",
      "metadata": {
        "id": "gA-JEAr2BRfb"
      },
      "source": [
        "A segunda abordagem é ainda mais simples."
      ]
    },
    {
      "cell_type": "code",
      "execution_count": null,
      "metadata": {
        "id": "WapdCCLqBRfb"
      },
      "outputs": [],
      "source": [
        "novo_df = df.dropna()\n",
        "\n",
        "print(df.shape)\n",
        "print(novo_df.shape)"
      ]
    },
    {
      "cell_type": "code",
      "execution_count": null,
      "metadata": {
        "id": "DPvbFtfPBRfc"
      },
      "outputs": [],
      "source": [
        "novo_df.isna().sum()"
      ]
    },
    {
      "cell_type": "markdown",
      "metadata": {
        "id": "h2pEaC8QBRfc"
      },
      "source": [
        "Também nos livramos de todos os valores nulos. O problema dessa abordagem é que, caso haja muitos valores nulos, há a possibilidade de ficarmos com poucos dados restantes para trabalhar."
      ]
    },
    {
      "cell_type": "markdown",
      "metadata": {
        "id": "U7Z8aQ9TBRfc"
      },
      "source": [
        "A terceira e última abordagem, por sua vez, é semelhante à segunda e possui as mesmas desvantagens."
      ]
    },
    {
      "cell_type": "code",
      "execution_count": null,
      "metadata": {
        "id": "KL1P461OBRfc"
      },
      "outputs": [],
      "source": [
        "novo_df = df.dropna(axis=1)\n",
        "\n",
        "print(df.shape)\n",
        "print(novo_df.shape)"
      ]
    },
    {
      "cell_type": "code",
      "execution_count": null,
      "metadata": {
        "id": "HPKNGNubBRfc"
      },
      "outputs": [],
      "source": [
        "novo_df.isna().sum()"
      ]
    },
    {
      "cell_type": "markdown",
      "metadata": {
        "id": "DToUD7YGBRfc"
      },
      "source": [
        "### Salvando o DataFrame em um arquivo\n",
        "\n",
        "Por fim, depois de tanto mexer no nosso DataFrame, vamos salvá-lo em um arquivo."
      ]
    },
    {
      "cell_type": "code",
      "execution_count": null,
      "metadata": {
        "id": "G5gZDV_GBRfd"
      },
      "outputs": [],
      "source": [
        "novo_df.to_csv('data/output.csv', index=False)"
      ]
    },
    {
      "cell_type": "markdown",
      "metadata": {
        "id": "dQmGhmfhBRfd"
      },
      "source": [
        "## Exercícios"
      ]
    },
    {
      "cell_type": "markdown",
      "metadata": {
        "id": "LPmk0ZiKBRfd"
      },
      "source": [
        "1. Escreva um programa que, dada uma palavra, a armazene em outra variável, porém com seu conteúdo invertido. Imprima-a na tela."
      ]
    },
    {
      "cell_type": "code",
      "execution_count": null,
      "metadata": {
        "id": "kjAbEGTiBRfd"
      },
      "outputs": [],
      "source": [
        "palavra = input('Digite uma palavra: ')\n",
        "\n",
        "tamanho = len(palavra)\n",
        "indice_ultima_letra = tamanho - 1\n",
        "\n",
        "palavra_invertida = ''\n",
        "\n",
        "\n",
        "for i in range(tamanho):\n",
        "    letra = palavra[indice_ultima_letra - i]\n",
        "    palavra_invertida = palavra_invertida + letra\n",
        "    \n",
        "print(palavra_invertida)"
      ]
    },
    {
      "cell_type": "markdown",
      "metadata": {
        "id": "GPzqFXliBRfe"
      },
      "source": [
        "2. Escreva uma função que receba uma lista como parâmetro de entrada e que imprima na tela todos os valores daquela lista junto com seus respectivos índices. Observação: você pode fazer o código completo ou pode utilizar a função ``enumerate``."
      ]
    },
    {
      "cell_type": "code",
      "execution_count": null,
      "metadata": {
        "id": "aqZMOFxPBRfe"
      },
      "outputs": [],
      "source": [
        "def imprimir(lista):\n",
        "    indice = 0\n",
        "    \n",
        "    for elemento in lista:\n",
        "        print(f'Indice: {indice}\\tValor: {elemento}')\n",
        "        indice += 1"
      ]
    },
    {
      "cell_type": "code",
      "execution_count": null,
      "metadata": {
        "id": "U6fOz3DIBRfe"
      },
      "outputs": [],
      "source": [
        "lista = [5, 8, 10, 12]\n",
        "imprimir(lista)"
      ]
    },
    {
      "cell_type": "markdown",
      "metadata": {
        "id": "ZDhu_4TfBRfe"
      },
      "source": [
        "3. Escreva uma função que recebe como parâmetros de entrada duas listas. Uma terceira lista deve ser montada e retornada, sendo ela composta pela primeira lista, porém com seu último elemento substituído pelos elementos da segunda lista.\n",
        "\n",
        "Exemplo:\n",
        "- Entrada: [1, 3, 5, 7, 9, 10] e [2, 4, 6, 8]\n",
        "- Saída: [1, 3, 5, 7, 9, 2, 4, 6, 8]"
      ]
    },
    {
      "cell_type": "code",
      "execution_count": null,
      "metadata": {
        "id": "m3uUx_giBRfe"
      },
      "outputs": [],
      "source": [
        "def realizar_troca(lista1, lista2):\n",
        "    lista3 = lista1\n",
        "    \n",
        "    for indice, elemento in enumerate(lista2):\n",
        "        if indice == 0:\n",
        "            lista3[-1] = lista2[0]\n",
        "        else:\n",
        "            lista3.append(elemento)\n",
        "            \n",
        "    return lista3\n",
        "\n",
        "lista1 = [1, 3, 5, 7, 9, 10]\n",
        "lista2 = [2, 4, 6, 8]\n",
        "\n",
        "realizar_troca(lista1, lista2)"
      ]
    },
    {
      "cell_type": "markdown",
      "metadata": {
        "id": "QVFdr-AuBRff"
      },
      "source": [
        "4. Escreva uma função que recebe duas tuplas como parâmetro de entrada e retorna uma lista que possui essas duas tuplas.\n",
        "\n",
        "Exemplo:\n",
        "- Entrada: (1, 3) e (45, 80, 2)\n",
        "- Saída: [(1, 3), (45, 80, 2)]"
      ]
    },
    {
      "cell_type": "code",
      "execution_count": null,
      "metadata": {
        "id": "fmVxi8qFBRff"
      },
      "outputs": [],
      "source": [
        "def montar_lista(tupla1, tupla2):\n",
        "    lista = [tupla1, tupla2]\n",
        "    \n",
        "    return lista\n",
        "\n",
        "montar_lista((1, 3), (45, 80, 2))"
      ]
    },
    {
      "cell_type": "markdown",
      "metadata": {
        "id": "7p-D39KOBRff"
      },
      "source": [
        "5. Escreva uma função que recebe um dicionário e realiza as seguintes tarefas:\n",
        "- Imprime na tela todas as chaves e seus respectivos valores\n",
        "- Imprime na tela a quantidade de chaves que aquele dicionário possui\n",
        "- Retorna \"True\" caso a chave 'oi' esteja presente no dicionário; \"False\", caso contrário."
      ]
    },
    {
      "cell_type": "code",
      "execution_count": null,
      "metadata": {
        "id": "J-cUcq_4BRff"
      },
      "outputs": [],
      "source": [
        "def realizar_tarefa(dicionario):\n",
        "    chaves = dicionario.keys()\n",
        "    for chave in chaves:\n",
        "        print(f'Chave: {chave}\\tValor: {dicionario[chave]}')\n",
        "        \n",
        "    print(f'Quantidade de chaves: {len(chaves)}')\n",
        "    \n",
        "    if 'oi' in chaves:\n",
        "        return True\n",
        "    else:\n",
        "        return False\n",
        "\n",
        "\n",
        "\n",
        "dicionario = {1: 10,\n",
        "              2: 20,\n",
        "              3: 30,\n",
        "              4: 40,\n",
        "              5: 50,\n",
        "              6: 60, \n",
        "              'vai': 100}\n",
        "\n",
        "possui_chave = realizar_tarefa(dicionario)\n",
        "\n",
        "print(possui_chave)"
      ]
    },
    {
      "cell_type": "markdown",
      "metadata": {
        "id": "lOV6nMqWBRff"
      },
      "source": [
        "6. **Neste exercício, será necessário que você exercite suas habilidades de pesquisa, pois algumas tarefas não foram apresentadas na exposição teórica.**\n",
        "\n",
        "Utilizando o arquivo de exemplo na parte de DataFrames, carregue-o em imprima os seguintes dados na tela:\n",
        "- O maior valor da coluna ``deaths``\n",
        "- As linhas que possuem o valor calculado no item anterior\n",
        "- As linhas que possuem valor de ``deaths`` maior do que metade do valor do primeiro item\n",
        "- Realize o agrupamento de acordo com a data. Para as colunas ``county`` e ``state``, aplique a operação ``count``; para as demais colunas, aplique ``sum``"
      ]
    },
    {
      "cell_type": "code",
      "execution_count": null,
      "metadata": {
        "id": "bCvgBpyBBRff"
      },
      "outputs": [],
      "source": [
        "df = pd.read_csv('data/us-counties-covid-19-dataset.csv')\n",
        "\n",
        "df.head()"
      ]
    },
    {
      "cell_type": "code",
      "execution_count": null,
      "metadata": {
        "id": "i_3xwCEGBRff"
      },
      "outputs": [],
      "source": [
        "maximo_deaths = df['deaths'].max()\n",
        "\n",
        "maximo_deaths"
      ]
    },
    {
      "cell_type": "code",
      "execution_count": null,
      "metadata": {
        "id": "Ija_Q9OmBRfg"
      },
      "outputs": [],
      "source": [
        "novo_df = df[df['deaths'] == maximo_deaths]\n",
        "\n",
        "novo_df"
      ]
    },
    {
      "cell_type": "code",
      "execution_count": null,
      "metadata": {
        "id": "Ktqn6NgIBRfg"
      },
      "outputs": [],
      "source": [
        "novo_df = df[df['deaths'] > maximo_deaths/2]\n",
        "\n",
        "novo_df"
      ]
    },
    {
      "cell_type": "code",
      "execution_count": null,
      "metadata": {
        "id": "X3RmOhLjBRfg"
      },
      "outputs": [],
      "source": [
        "novo_df = df.groupby('date').agg({'county': 'count',\n",
        "                                  'state': 'count',\n",
        "                                  'fips': 'sum',\n",
        "                                  'cases': 'sum',\n",
        "                                  'deaths': 'sum'})\n",
        "\n",
        "novo_df"
      ]
    }
  ],
  "metadata": {
    "kernelspec": {
      "display_name": "Python 3",
      "language": "python",
      "name": "python3"
    },
    "language_info": {
      "codemirror_mode": {
        "name": "ipython",
        "version": 3
      },
      "file_extension": ".py",
      "mimetype": "text/x-python",
      "name": "python",
      "nbconvert_exporter": "python",
      "pygments_lexer": "ipython3",
      "version": "3.8.2"
    },
    "colab": {
      "name": "Aula 02 - Python 101.ipynb",
      "provenance": []
    }
  },
  "nbformat": 4,
  "nbformat_minor": 0
}
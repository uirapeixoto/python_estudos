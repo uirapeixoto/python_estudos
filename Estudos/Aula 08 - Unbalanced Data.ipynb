{
 "cells": [
  {
   "cell_type": "markdown",
   "metadata": {},
   "source": [
    "# Aula 08 - Dados Desbalanceados\n",
    "\n",
    "Nosso objetivo nessa aula é apresentar algumas ferramentas úteis para lidar com dados desbalanceados, ou seja, quando temos muitos dados de uma classe e poucos dados de outra. Note que este assunto será muito útil nas disciplinas que ainda estão por vir, especialmente no contexto de aprendizado supervisionado!"
   ]
  },
  {
   "cell_type": "markdown",
   "metadata": {},
   "source": [
    "Em muitos casos, há um desequilíbrio nas classes a serem analisadas, com uma classe tendo muito mais amostras do que a outra. Por exemplo, requisições de uso de seguro legítimas versus fraudulentas, ou navegadores versus compradores em um site. A classe rara (por exemplo, as requisições fraudulentas) é geralmente a classe de mais interesse e é normalmente designada com a flag 1, em contraste com os 0s (mais prevalentes).\n",
    "\n",
    "No cenário típico, os 1s são o caso mais importante, no sentido de que classificá-los incorretamente como 0s é mais caro do que classificar 0s como 1s. Por exemplo, identificar corretamente uma reclamação de seguro fraudulenta pode economizar milhares de reais. Por outro lado, identificar corretamente uma reclamação não fraudulenta simplesmente economiza o custo e o esforço de processar a reclamação manualmente com uma revisão mas cuidadosa (que é o que você faria se a reclamação fosse marcada como “fraudulenta”).\n",
    "\n",
    "Nesses casos, a menos que as classes sejam facilmente separáveis, a abordagem mais simples para um classificador seria utilizar um modelo que simplesmente classifica tudo como 0. Por exemplo, se apenas 0,1% dos visitantes de uma loja da web acabassem comprando, um modelo que prevê que todos os visitantes sairão sem comprar nada terá 99,9% de precisão. Apesar disso, esse modelo será inútil.\n",
    "\n",
    "Em vez disso, seria muito mais útil um modelo com precisão geral menor, mas que fosse bom em detectar os visitantes compradores (mesmo que classifique erroneamente alguns não-compradores ao longo do caminho).\n",
    "\n",
    "Para isso, há outras métricas úteis (que serão abordadas em outras disciplinas), mas aqui, hoje, iremos apresentar algumas formas de tentar equilibrar o dataset.\n",
    "\n",
    "Utilizaremos um dataset de empréstimos bancários para realizar nossas análises (full_train_set.csv)."
   ]
  },
  {
   "cell_type": "markdown",
   "metadata": {},
   "source": [
    "## Undersampling (sub-amostragem)\n",
    "\n",
    "Se tivermos dados suficientes, como é o caso do nosso dataset de empréstimos, uma solução é subamostrar (ou reduzir) a classe predominante para que os dados a serem aprendidos estejam equilibrados.\n",
    "\n",
    "A ideia básica na subamostragem é que a classe predominante possui muitos registros redundantes e, por isso, podemos descartá-los. Lidar com uma base de dados menor e mais balanceada nos permite alcançar benefícios de performance e torna mais fácil o preparo dos dados.\n",
    "\n",
    "Surge, então, uma pergunta: qual a quantidade de dados que pode ser considerada como suficiente para fazer uma análise ou treinar um modelo? Essa pergunta não possui uma resposta objetiva, pois depende da aplicação. Em geral, dezenas de milhares de registros para a classe rara são suficientes. Quanto mais distinguíveis as classes forem, de menos dados precisaremos.\n",
    "\n",
    "Na nossa base de dados, apenas cerca de 19% dos empréstimos estão inadimplentes, conforme veremos a seguir."
   ]
  },
  {
   "cell_type": "code",
   "execution_count": 1,
   "metadata": {},
   "outputs": [],
   "source": [
    "import pandas as pd"
   ]
  },
  {
   "cell_type": "code",
   "execution_count": 2,
   "metadata": {},
   "outputs": [],
   "source": [
    "df = pd.read_csv('full_train_set.csv')"
   ]
  },
  {
   "cell_type": "code",
   "execution_count": 3,
   "metadata": {},
   "outputs": [
    {
     "data": {
      "text/html": [
       "<div>\n",
       "<style scoped>\n",
       "    .dataframe tbody tr th:only-of-type {\n",
       "        vertical-align: middle;\n",
       "    }\n",
       "\n",
       "    .dataframe tbody tr th {\n",
       "        vertical-align: top;\n",
       "    }\n",
       "\n",
       "    .dataframe thead th {\n",
       "        text-align: right;\n",
       "    }\n",
       "</style>\n",
       "<table border=\"1\" class=\"dataframe\">\n",
       "  <thead>\n",
       "    <tr style=\"text-align: right;\">\n",
       "      <th></th>\n",
       "      <th>status</th>\n",
       "      <th>loan_amnt</th>\n",
       "      <th>term</th>\n",
       "      <th>annual_inc</th>\n",
       "      <th>dti</th>\n",
       "      <th>payment_inc_ratio</th>\n",
       "      <th>revol_bal</th>\n",
       "      <th>revol_util</th>\n",
       "      <th>purpose</th>\n",
       "      <th>home_ownership</th>\n",
       "      <th>delinq_2yrs_zero</th>\n",
       "      <th>pub_rec_zero</th>\n",
       "      <th>open_acc</th>\n",
       "      <th>grade</th>\n",
       "      <th>outcome</th>\n",
       "      <th>emp_length</th>\n",
       "      <th>purpose_</th>\n",
       "      <th>home_</th>\n",
       "      <th>emp_len_</th>\n",
       "    </tr>\n",
       "  </thead>\n",
       "  <tbody>\n",
       "    <tr>\n",
       "      <th>0</th>\n",
       "      <td>Fully Paid</td>\n",
       "      <td>5000</td>\n",
       "      <td>36 months</td>\n",
       "      <td>24000</td>\n",
       "      <td>27.65</td>\n",
       "      <td>8.14350</td>\n",
       "      <td>13648.0</td>\n",
       "      <td>83.7</td>\n",
       "      <td>credit_card</td>\n",
       "      <td>RENT</td>\n",
       "      <td>1</td>\n",
       "      <td>1</td>\n",
       "      <td>3</td>\n",
       "      <td>5.4</td>\n",
       "      <td>paid off</td>\n",
       "      <td>11</td>\n",
       "      <td>credit_card</td>\n",
       "      <td>RENT</td>\n",
       "      <td>&gt; 1 Year</td>\n",
       "    </tr>\n",
       "    <tr>\n",
       "      <th>1</th>\n",
       "      <td>Charged Off</td>\n",
       "      <td>2500</td>\n",
       "      <td>60 months</td>\n",
       "      <td>30000</td>\n",
       "      <td>1.00</td>\n",
       "      <td>2.39320</td>\n",
       "      <td>1687.0</td>\n",
       "      <td>9.4</td>\n",
       "      <td>car</td>\n",
       "      <td>RENT</td>\n",
       "      <td>1</td>\n",
       "      <td>1</td>\n",
       "      <td>3</td>\n",
       "      <td>4.8</td>\n",
       "      <td>default</td>\n",
       "      <td>1</td>\n",
       "      <td>major_purchase</td>\n",
       "      <td>RENT</td>\n",
       "      <td>&gt; 1 Year</td>\n",
       "    </tr>\n",
       "    <tr>\n",
       "      <th>2</th>\n",
       "      <td>Fully Paid</td>\n",
       "      <td>2400</td>\n",
       "      <td>36 months</td>\n",
       "      <td>12252</td>\n",
       "      <td>8.72</td>\n",
       "      <td>8.25955</td>\n",
       "      <td>2956.0</td>\n",
       "      <td>98.5</td>\n",
       "      <td>small_business</td>\n",
       "      <td>RENT</td>\n",
       "      <td>1</td>\n",
       "      <td>1</td>\n",
       "      <td>2</td>\n",
       "      <td>5.0</td>\n",
       "      <td>paid off</td>\n",
       "      <td>11</td>\n",
       "      <td>small_business</td>\n",
       "      <td>RENT</td>\n",
       "      <td>&gt; 1 Year</td>\n",
       "    </tr>\n",
       "    <tr>\n",
       "      <th>3</th>\n",
       "      <td>Fully Paid</td>\n",
       "      <td>10000</td>\n",
       "      <td>36 months</td>\n",
       "      <td>49200</td>\n",
       "      <td>20.00</td>\n",
       "      <td>8.27585</td>\n",
       "      <td>5598.0</td>\n",
       "      <td>21.0</td>\n",
       "      <td>other</td>\n",
       "      <td>RENT</td>\n",
       "      <td>1</td>\n",
       "      <td>1</td>\n",
       "      <td>10</td>\n",
       "      <td>4.2</td>\n",
       "      <td>paid off</td>\n",
       "      <td>11</td>\n",
       "      <td>other</td>\n",
       "      <td>RENT</td>\n",
       "      <td>&gt; 1 Year</td>\n",
       "    </tr>\n",
       "    <tr>\n",
       "      <th>4</th>\n",
       "      <td>Fully Paid</td>\n",
       "      <td>5000</td>\n",
       "      <td>36 months</td>\n",
       "      <td>36000</td>\n",
       "      <td>11.20</td>\n",
       "      <td>5.21533</td>\n",
       "      <td>7963.0</td>\n",
       "      <td>28.3</td>\n",
       "      <td>wedding</td>\n",
       "      <td>RENT</td>\n",
       "      <td>1</td>\n",
       "      <td>1</td>\n",
       "      <td>9</td>\n",
       "      <td>6.8</td>\n",
       "      <td>paid off</td>\n",
       "      <td>4</td>\n",
       "      <td>other</td>\n",
       "      <td>RENT</td>\n",
       "      <td>&gt; 1 Year</td>\n",
       "    </tr>\n",
       "  </tbody>\n",
       "</table>\n",
       "</div>"
      ],
      "text/plain": [
       "        status  loan_amnt       term  annual_inc    dti  payment_inc_ratio  \\\n",
       "0   Fully Paid       5000  36 months       24000  27.65            8.14350   \n",
       "1  Charged Off       2500  60 months       30000   1.00            2.39320   \n",
       "2   Fully Paid       2400  36 months       12252   8.72            8.25955   \n",
       "3   Fully Paid      10000  36 months       49200  20.00            8.27585   \n",
       "4   Fully Paid       5000  36 months       36000  11.20            5.21533   \n",
       "\n",
       "   revol_bal  revol_util         purpose home_ownership  delinq_2yrs_zero  \\\n",
       "0    13648.0        83.7     credit_card           RENT                 1   \n",
       "1     1687.0         9.4             car           RENT                 1   \n",
       "2     2956.0        98.5  small_business           RENT                 1   \n",
       "3     5598.0        21.0           other           RENT                 1   \n",
       "4     7963.0        28.3         wedding           RENT                 1   \n",
       "\n",
       "   pub_rec_zero  open_acc  grade   outcome  emp_length        purpose_ home_  \\\n",
       "0             1         3    5.4  paid off          11     credit_card  RENT   \n",
       "1             1         3    4.8   default           1  major_purchase  RENT   \n",
       "2             1         2    5.0  paid off          11  small_business  RENT   \n",
       "3             1        10    4.2  paid off          11           other  RENT   \n",
       "4             1         9    6.8  paid off           4           other  RENT   \n",
       "\n",
       "    emp_len_  \n",
       "0   > 1 Year  \n",
       "1   > 1 Year  \n",
       "2   > 1 Year  \n",
       "3   > 1 Year  \n",
       "4   > 1 Year  "
      ]
     },
     "execution_count": 3,
     "metadata": {},
     "output_type": "execute_result"
    }
   ],
   "source": [
    "df.head() # coluna outcome"
   ]
  },
  {
   "cell_type": "code",
   "execution_count": 4,
   "metadata": {},
   "outputs": [
    {
     "data": {
      "text/plain": [
       "(119987, 19)"
      ]
     },
     "execution_count": 4,
     "metadata": {},
     "output_type": "execute_result"
    }
   ],
   "source": [
    "df.shape"
   ]
  },
  {
   "cell_type": "code",
   "execution_count": 5,
   "metadata": {},
   "outputs": [
    {
     "data": {
      "text/plain": [
       "array(['paid off', 'default'], dtype=object)"
      ]
     },
     "execution_count": 5,
     "metadata": {},
     "output_type": "execute_result"
    }
   ],
   "source": [
    "df['outcome'].unique()"
   ]
  },
  {
   "cell_type": "code",
   "execution_count": 6,
   "metadata": {},
   "outputs": [
    {
     "name": "stdout",
     "output_type": "stream",
     "text": [
      "Paid_off: 81.1054530907515% => 97316\n",
      "Default: 18.894546909248504% => 22671\n"
     ]
    }
   ],
   "source": [
    "total = df.shape[0]\n",
    "\n",
    "counts = df['outcome'].value_counts()\n",
    "\n",
    "paid_off = counts[0]\n",
    "default = counts[1]\n",
    "\n",
    "print(f'Paid_off: {(paid_off/total)*100}% => {paid_off}')\n",
    "print(f'Default: {(default/total)*100}% => {default}')"
   ]
  },
  {
   "cell_type": "markdown",
   "metadata": {},
   "source": [
    "Para que possamos avaliar o efeito de uma base de dados desbalanceada, iremos utilizar a Regressão Logística como uma caixa preta."
   ]
  },
  {
   "cell_type": "code",
   "execution_count": 7,
   "metadata": {},
   "outputs": [
    {
     "name": "stdout",
     "output_type": "stream",
     "text": [
      "Porcentagem de empréstimos preditos como inadimplentes: 0.15585021710685323%\n"
     ]
    }
   ],
   "source": [
    "import numpy as np\n",
    "from sklearn.linear_model import LogisticRegression\n",
    "\n",
    "predictors = ['payment_inc_ratio', 'purpose_', 'home_', 'emp_len_', 'dti', 'revol_bal', 'revol_util']\n",
    "outcome = 'outcome'\n",
    "\n",
    "X = pd.get_dummies(df[predictors], prefix='', prefix_sep='', drop_first=True)\n",
    "y = df[outcome]\n",
    "\n",
    "model = LogisticRegression(penalty='l2', C=1e42, solver='liblinear')\n",
    "model.fit(X, y)\n",
    "\n",
    "print(f'Porcentagem de empréstimos preditos como inadimplentes: {100*np.mean(model.predict(X) == \"default\")}%')"
   ]
  },
  {
   "cell_type": "markdown",
   "metadata": {},
   "source": [
    "Apenas 0,15% dos empréstimos são preditos como inadimplentes. Note que, na verdade, cerca de 19% são inadimplentes na base de dados!\n",
    "\n",
    "Os empréstimos que foram pagos superam os empréstimos inadimplentes porque o modelo é treinado usando todos os dados igualmente. Intuitivamente, a presença de tantos empréstimos pagos significa que, mesmo para um empréstimo inadimplente, o modelo provavelmente encontrará alguns empréstimos pagos que possuem características semelhantes a ele.\n",
    "\n",
    "Vamos realizar um rápido balanceamento por subamostragem e re-executar nosso classificador."
   ]
  },
  {
   "cell_type": "code",
   "execution_count": 8,
   "metadata": {},
   "outputs": [
    {
     "data": {
      "text/plain": [
       "(22671, 19)"
      ]
     },
     "execution_count": 8,
     "metadata": {},
     "output_type": "execute_result"
    }
   ],
   "source": [
    "default_df = df[df['outcome'] == 'default']\n",
    "\n",
    "paid_off_df = df[df['outcome'] == 'paid off']\n",
    "\n",
    "paid_off_df = paid_off_df.iloc[:default]\n",
    "\n",
    "paid_off_df.shape"
   ]
  },
  {
   "cell_type": "markdown",
   "metadata": {},
   "source": [
    "Agora sim temos a mesma quantidade de entradas para as duas classes."
   ]
  },
  {
   "cell_type": "code",
   "execution_count": 9,
   "metadata": {},
   "outputs": [
    {
     "name": "stdout",
     "output_type": "stream",
     "text": [
      "Paid_off: 50.0% => 22671\n",
      "Default: 50.0% => 22671\n"
     ]
    }
   ],
   "source": [
    "undersample_df = pd.concat([paid_off_df, default_df])\n",
    "\n",
    "total = undersample_df.shape[0]\n",
    "\n",
    "counts = undersample_df['outcome'].value_counts()\n",
    "\n",
    "paid_off = counts[0]\n",
    "default = counts[1]\n",
    "\n",
    "print(f'Paid_off: {(paid_off/total)*100}% => {paid_off}')\n",
    "print(f'Default: {(default/total)*100}% => {default}')"
   ]
  },
  {
   "cell_type": "markdown",
   "metadata": {},
   "source": [
    "Vamos re-executar o preditor."
   ]
  },
  {
   "cell_type": "code",
   "execution_count": 10,
   "metadata": {},
   "outputs": [
    {
     "name": "stdout",
     "output_type": "stream",
     "text": [
      "Porcentagem de empréstimos preditos como inadimplentes: 50.45432490847338%\n"
     ]
    }
   ],
   "source": [
    "X = pd.get_dummies(undersample_df[predictors], prefix='', prefix_sep='', drop_first=True)\n",
    "y = undersample_df[outcome]\n",
    "\n",
    "model = LogisticRegression(penalty='l2', C=1e42, solver='liblinear')\n",
    "model.fit(X, y)\n",
    "\n",
    "print(f'Porcentagem de empréstimos preditos como inadimplentes: {100*np.mean(model.predict(X) == \"default\")}%')"
   ]
  },
  {
   "cell_type": "markdown",
   "metadata": {},
   "source": [
    "Note que, agora, temos cerca de 50% dos dados preditos como inadimplentes."
   ]
  },
  {
   "cell_type": "markdown",
   "metadata": {},
   "source": [
    "## Oversampling e Up/Down Weighting\n",
    "\n",
    "O principal problema do uso de undersampling é que ele descarta dados que poderiam ser utilizados para treinar o modelo. Se tivermos um dataset pequeno e a classe rara possui apenas algumas centenas ou poucos milhares de amostras, subamostrar a classe predominante pode resultar na perda de informações muito úteis!\n",
    "\n",
    "Nesse caso, iremos superamostrar (oversampling) a classe rara por meio de uma seleção aleatória de linhas com reposição (bootstrapping), ou seja, serão selecionadas, aleatoriamente, algumas linhas da classe rara para serem repetidas (com reposição) de tal forma que tenhamos, ao final da seleção, a mesma quantidade de elementos para as duas classes.\n",
    "\n",
    "Podemos alcançar um efeito similar através da pesagem dos dados. Muitos algoritmos de classificação podem receber um argumento com o peso que permitirá aumentar ou diminuir o peso dos dados.\n",
    "\n",
    "A maioria dos métodos do scikit-learn permite especificar pesos pela função **fit** utilizando o argumento **sample_weight**."
   ]
  },
  {
   "cell_type": "code",
   "execution_count": 11,
   "metadata": {},
   "outputs": [
    {
     "name": "stdout",
     "output_type": "stream",
     "text": [
      "Porcentagem de empréstimos preditos como inadimplentes (weighting): 61.45999149907907%\n"
     ]
    }
   ],
   "source": [
    "default_wt = 1 / np.mean(df['outcome'] == 'default')\n",
    "wt = [default_wt if outcome == 'default' else 1 for outcome in df['outcome']]\n",
    "\n",
    "X = pd.get_dummies(df[predictors], prefix='', prefix_sep='', drop_first=True)\n",
    "y = df[outcome]\n",
    "\n",
    "model = LogisticRegression(penalty=\"l2\", C=1e42, solver='liblinear')\n",
    "model.fit(X, y, wt)\n",
    "\n",
    "print(f'Porcentagem de empréstimos preditos como inadimplentes (weighting): {100*np.mean(model.predict(X) == \"default\")}%')"
   ]
  },
  {
   "cell_type": "markdown",
   "metadata": {},
   "source": [
    "Os pesos para os empréstimos inadimplentes são setados para $\\frac{1}{p}$, onde $p$ é a probabilidade de inadimplência.\n",
    "\n",
    ">$\\frac{1}{p} \\times quantidade\\_inadimplencias = 1 \\times quantidade\\_pagos$\n",
    "\n",
    "Os empréstimos pagos possuem peso 1. Note que a soma dos pesos para os empréstimos pagos e dos inadimplentes são iguais.\n",
    "\n",
    "Agora, obtivemos cerca de 61% das predições como sendo inadimplentes (contra os 0,15% obtidos com a base desbalanceada).\n",
    "\n",
    "Apresentamos, aqui, duas abordagens: definição de pesos (implementada em código) e a superamostragem (ou oversampling, cuja implementação fica como exercício para o leitor)."
   ]
  },
  {
   "cell_type": "markdown",
   "metadata": {},
   "source": [
    "## Geração de Dados\n",
    "\n",
    "Uma variação do upsampling via bootstrapping é a geração de dados por meio da uma variação nos dados existentes para criar novos dados.\n",
    "\n",
    "A intuição dessa técnica é a seguinte: já que possuímos um conjunto limitado de dados, o algoritmo classificador não tem acesso a um conjunto de dados rico o suficiente para construir \"regras\" de classificação. Sendo assim, ao criar novos dados que são similares (mas não idênticos) aos originais, o algoritmo tem a chance de aprender \"regras\" de classificação mais robustas.\n",
    "\n",
    "Essa abordagem ganhou mais atenção com a publicação do algoritmo SMOTE, que significa \"Synthetic Minority Oversampling Technique\". Esse algoritmo encontra uma entrada que é similar à entrada a ser superamostrada e cria uma nova entrada sintética que é uma média aleatoriamente ponderada entre a entrada original e a entrada vizinha, onde os pesos são gerados separadamente para cada preditor. A quantidade de novas amostras geradas é determinada pela quantidade necessária de novos dados para que o dataset fique balanceado.\n",
    "\n",
    "O pacote **imbalanced-learn** do Python implementa uma variedade de métodos com uma API compatível com o **scikit-learn**, provendo métodos para super e sub amostragem.\n",
    "\n",
    "A célula abaixo avalia dois algoritmos de geração de dados: [SMOTE](http://glemaitre.github.io/imbalanced-learn/generated/imblearn.over_sampling.SMOTE.html) e [ADASYN](http://glemaitre.github.io/imbalanced-learn/generated/imblearn.over_sampling.ADASYN.html). Detalhes sobre as implementações desses algoritmos ficam como exercício para o leitor."
   ]
  },
  {
   "cell_type": "code",
   "execution_count": 12,
   "metadata": {},
   "outputs": [
    {
     "name": "stdout",
     "output_type": "stream",
     "text": [
      "===== Porcentagem de empréstimos inadimplentes antes da geração de dados: 18.894546909248504 =====\n",
      "\n",
      "Porcentagem de empréstimos inadimplentes após geração de dados via SMOTE: 50.0\n",
      "Porcentagem de empréstimos inadimplentes previstos pela Regressão Logística com dados SMOTE: 29.46152499854151\n",
      "\n",
      "Porcentagem de empréstimos inadimplentes após geração de dados via ADASYN: 48.56040383751355\n",
      "Porcentagem de empréstimos inadimplentes previstos pela Regressão Logística com dados ADASYN: 27.543817246868414\n"
     ]
    }
   ],
   "source": [
    "from imblearn.over_sampling import SMOTE, ADASYN, BorderlineSMOTE\n",
    "\n",
    "print(f'===== Porcentagem de empréstimos inadimplentes antes da geração de dados: {100*np.mean(y == \"default\")} =====\\n')\n",
    "\n",
    "# SMOTE\n",
    "X_resampled, y_resampled = SMOTE().fit_resample(X, y)\n",
    "print(f'Porcentagem de empréstimos inadimplentes após geração de dados via SMOTE: {100*np.mean(y_resampled == \"default\")}')\n",
    "\n",
    "model = LogisticRegression(penalty=\"l2\", C=1e42, solver='liblinear')\n",
    "model.fit(X_resampled, y_resampled)\n",
    "print(f'Porcentagem de empréstimos inadimplentes previstos pela Regressão Logística com dados SMOTE: {100*np.mean(model.predict(X) == \"default\")}\\n')\n",
    "\n",
    "# ADASYN\n",
    "X_resampled, y_resampled = ADASYN().fit_resample(X, y)\n",
    "print(f'Porcentagem de empréstimos inadimplentes após geração de dados via ADASYN: {100*np.mean(y_resampled == \"default\")}')\n",
    "\n",
    "model = LogisticRegression(penalty=\"l2\", C=1e42, solver='liblinear')\n",
    "model.fit(X_resampled, y_resampled)\n",
    "print(f'Porcentagem de empréstimos inadimplentes previstos pela Regressão Logística com dados ADASYN: {100*np.mean(model.predict(X) == \"default\")}')"
   ]
  },
  {
   "cell_type": "markdown",
   "metadata": {},
   "source": [
    "## Exercícios\n",
    "\n",
    "Utilizando o dataset de fraudes em cartões de crédito, aplique as diferentes técnicas para dados desbalanceados e compare, utilizando a Regressão Logística, os resultados obtidos na predição de fraudes.\n",
    "\n",
    "Qual técnica obteve o melhor desempenho na detecção de fraudes?"
   ]
  },
  {
   "cell_type": "code",
   "execution_count": 13,
   "metadata": {},
   "outputs": [
    {
     "data": {
      "text/html": [
       "<div>\n",
       "<style scoped>\n",
       "    .dataframe tbody tr th:only-of-type {\n",
       "        vertical-align: middle;\n",
       "    }\n",
       "\n",
       "    .dataframe tbody tr th {\n",
       "        vertical-align: top;\n",
       "    }\n",
       "\n",
       "    .dataframe thead th {\n",
       "        text-align: right;\n",
       "    }\n",
       "</style>\n",
       "<table border=\"1\" class=\"dataframe\">\n",
       "  <thead>\n",
       "    <tr style=\"text-align: right;\">\n",
       "      <th></th>\n",
       "      <th>Time</th>\n",
       "      <th>V1</th>\n",
       "      <th>V2</th>\n",
       "      <th>V3</th>\n",
       "      <th>V4</th>\n",
       "      <th>V5</th>\n",
       "      <th>V6</th>\n",
       "      <th>V7</th>\n",
       "      <th>V8</th>\n",
       "      <th>V9</th>\n",
       "      <th>...</th>\n",
       "      <th>V21</th>\n",
       "      <th>V22</th>\n",
       "      <th>V23</th>\n",
       "      <th>V24</th>\n",
       "      <th>V25</th>\n",
       "      <th>V26</th>\n",
       "      <th>V27</th>\n",
       "      <th>V28</th>\n",
       "      <th>Amount</th>\n",
       "      <th>Class</th>\n",
       "    </tr>\n",
       "  </thead>\n",
       "  <tbody>\n",
       "    <tr>\n",
       "      <th>0</th>\n",
       "      <td>0.0</td>\n",
       "      <td>-1.359807</td>\n",
       "      <td>-0.072781</td>\n",
       "      <td>2.536347</td>\n",
       "      <td>1.378155</td>\n",
       "      <td>-0.338321</td>\n",
       "      <td>0.462388</td>\n",
       "      <td>0.239599</td>\n",
       "      <td>0.098698</td>\n",
       "      <td>0.363787</td>\n",
       "      <td>...</td>\n",
       "      <td>-0.018307</td>\n",
       "      <td>0.277838</td>\n",
       "      <td>-0.110474</td>\n",
       "      <td>0.066928</td>\n",
       "      <td>0.128539</td>\n",
       "      <td>-0.189115</td>\n",
       "      <td>0.133558</td>\n",
       "      <td>-0.021053</td>\n",
       "      <td>149.62</td>\n",
       "      <td>0</td>\n",
       "    </tr>\n",
       "    <tr>\n",
       "      <th>1</th>\n",
       "      <td>0.0</td>\n",
       "      <td>1.191857</td>\n",
       "      <td>0.266151</td>\n",
       "      <td>0.166480</td>\n",
       "      <td>0.448154</td>\n",
       "      <td>0.060018</td>\n",
       "      <td>-0.082361</td>\n",
       "      <td>-0.078803</td>\n",
       "      <td>0.085102</td>\n",
       "      <td>-0.255425</td>\n",
       "      <td>...</td>\n",
       "      <td>-0.225775</td>\n",
       "      <td>-0.638672</td>\n",
       "      <td>0.101288</td>\n",
       "      <td>-0.339846</td>\n",
       "      <td>0.167170</td>\n",
       "      <td>0.125895</td>\n",
       "      <td>-0.008983</td>\n",
       "      <td>0.014724</td>\n",
       "      <td>2.69</td>\n",
       "      <td>0</td>\n",
       "    </tr>\n",
       "    <tr>\n",
       "      <th>2</th>\n",
       "      <td>1.0</td>\n",
       "      <td>-1.358354</td>\n",
       "      <td>-1.340163</td>\n",
       "      <td>1.773209</td>\n",
       "      <td>0.379780</td>\n",
       "      <td>-0.503198</td>\n",
       "      <td>1.800499</td>\n",
       "      <td>0.791461</td>\n",
       "      <td>0.247676</td>\n",
       "      <td>-1.514654</td>\n",
       "      <td>...</td>\n",
       "      <td>0.247998</td>\n",
       "      <td>0.771679</td>\n",
       "      <td>0.909412</td>\n",
       "      <td>-0.689281</td>\n",
       "      <td>-0.327642</td>\n",
       "      <td>-0.139097</td>\n",
       "      <td>-0.055353</td>\n",
       "      <td>-0.059752</td>\n",
       "      <td>378.66</td>\n",
       "      <td>0</td>\n",
       "    </tr>\n",
       "    <tr>\n",
       "      <th>3</th>\n",
       "      <td>1.0</td>\n",
       "      <td>-0.966272</td>\n",
       "      <td>-0.185226</td>\n",
       "      <td>1.792993</td>\n",
       "      <td>-0.863291</td>\n",
       "      <td>-0.010309</td>\n",
       "      <td>1.247203</td>\n",
       "      <td>0.237609</td>\n",
       "      <td>0.377436</td>\n",
       "      <td>-1.387024</td>\n",
       "      <td>...</td>\n",
       "      <td>-0.108300</td>\n",
       "      <td>0.005274</td>\n",
       "      <td>-0.190321</td>\n",
       "      <td>-1.175575</td>\n",
       "      <td>0.647376</td>\n",
       "      <td>-0.221929</td>\n",
       "      <td>0.062723</td>\n",
       "      <td>0.061458</td>\n",
       "      <td>123.50</td>\n",
       "      <td>0</td>\n",
       "    </tr>\n",
       "    <tr>\n",
       "      <th>4</th>\n",
       "      <td>2.0</td>\n",
       "      <td>-1.158233</td>\n",
       "      <td>0.877737</td>\n",
       "      <td>1.548718</td>\n",
       "      <td>0.403034</td>\n",
       "      <td>-0.407193</td>\n",
       "      <td>0.095921</td>\n",
       "      <td>0.592941</td>\n",
       "      <td>-0.270533</td>\n",
       "      <td>0.817739</td>\n",
       "      <td>...</td>\n",
       "      <td>-0.009431</td>\n",
       "      <td>0.798278</td>\n",
       "      <td>-0.137458</td>\n",
       "      <td>0.141267</td>\n",
       "      <td>-0.206010</td>\n",
       "      <td>0.502292</td>\n",
       "      <td>0.219422</td>\n",
       "      <td>0.215153</td>\n",
       "      <td>69.99</td>\n",
       "      <td>0</td>\n",
       "    </tr>\n",
       "  </tbody>\n",
       "</table>\n",
       "<p>5 rows × 31 columns</p>\n",
       "</div>"
      ],
      "text/plain": [
       "   Time        V1        V2        V3        V4        V5        V6        V7  \\\n",
       "0   0.0 -1.359807 -0.072781  2.536347  1.378155 -0.338321  0.462388  0.239599   \n",
       "1   0.0  1.191857  0.266151  0.166480  0.448154  0.060018 -0.082361 -0.078803   \n",
       "2   1.0 -1.358354 -1.340163  1.773209  0.379780 -0.503198  1.800499  0.791461   \n",
       "3   1.0 -0.966272 -0.185226  1.792993 -0.863291 -0.010309  1.247203  0.237609   \n",
       "4   2.0 -1.158233  0.877737  1.548718  0.403034 -0.407193  0.095921  0.592941   \n",
       "\n",
       "         V8        V9  ...       V21       V22       V23       V24       V25  \\\n",
       "0  0.098698  0.363787  ... -0.018307  0.277838 -0.110474  0.066928  0.128539   \n",
       "1  0.085102 -0.255425  ... -0.225775 -0.638672  0.101288 -0.339846  0.167170   \n",
       "2  0.247676 -1.514654  ...  0.247998  0.771679  0.909412 -0.689281 -0.327642   \n",
       "3  0.377436 -1.387024  ... -0.108300  0.005274 -0.190321 -1.175575  0.647376   \n",
       "4 -0.270533  0.817739  ... -0.009431  0.798278 -0.137458  0.141267 -0.206010   \n",
       "\n",
       "        V26       V27       V28  Amount  Class  \n",
       "0 -0.189115  0.133558 -0.021053  149.62      0  \n",
       "1  0.125895 -0.008983  0.014724    2.69      0  \n",
       "2 -0.139097 -0.055353 -0.059752  378.66      0  \n",
       "3 -0.221929  0.062723  0.061458  123.50      0  \n",
       "4  0.502292  0.219422  0.215153   69.99      0  \n",
       "\n",
       "[5 rows x 31 columns]"
      ]
     },
     "execution_count": 13,
     "metadata": {},
     "output_type": "execute_result"
    }
   ],
   "source": [
    "cc_df = pd.read_csv('dataset/creditcard.csv')\n",
    "\n",
    "cc_df.head()"
   ]
  },
  {
   "cell_type": "code",
   "execution_count": 14,
   "metadata": {},
   "outputs": [
    {
     "name": "stdout",
     "output_type": "stream",
     "text": [
      "Not fraud: 99.82725143693798% => 284315\n",
      "Fraud: 0.1727485630620034% => 492\n"
     ]
    }
   ],
   "source": [
    "total = cc_df.shape[0]\n",
    "\n",
    "counts = cc_df['Class'].value_counts()\n",
    "\n",
    "not_fraud = counts[0]\n",
    "fraud = counts[1]\n",
    "\n",
    "print(f'Not fraud: {(not_fraud/total)*100}% => {not_fraud}')\n",
    "print(f'Fraud: {(fraud/total)*100}% => {fraud}')"
   ]
  }
 ],
 "metadata": {
  "kernelspec": {
   "display_name": "Python 3",
   "language": "python",
   "name": "python3"
  },
  "language_info": {
   "codemirror_mode": {
    "name": "ipython",
    "version": 3
   },
   "file_extension": ".py",
   "mimetype": "text/x-python",
   "name": "python",
   "nbconvert_exporter": "python",
   "pygments_lexer": "ipython3",
   "version": "3.8.2"
  }
 },
 "nbformat": 4,
 "nbformat_minor": 4
}

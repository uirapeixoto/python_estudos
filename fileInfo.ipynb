{
 "cells": [
  {
   "cell_type": "code",
   "execution_count": 2,
   "metadata": {},
   "outputs": [],
   "source": [
    "import os\n",
    "import eyed3\n",
    "import pandas as pd"
   ]
  },
  {
   "cell_type": "code",
   "execution_count": 19,
   "metadata": {},
   "outputs": [
    {
     "name": "stderr",
     "output_type": "stream",
     "text": [
      "Lame tag CRC check failed\n"
     ]
    },
    {
     "name": "stdout",
     "output_type": "stream",
     "text": [
      "title: Broken Bones\n",
      "artist: KALEO\n",
      "album: A/B\n",
      "track: CountAndTotalTuple(count=None, total=None)\n",
      "genre: None\n",
      "release_date: None\n",
      "comments:<eyed3.id3.tag.CommentsAccessor object at 0x000002B07FA75810>\n"
     ]
    },
    {
     "ename": "AttributeError",
     "evalue": "'LyricsAccessor' object has no attribute 'text'",
     "output_type": "error",
     "traceback": [
      "\u001b[1;31m---------------------------------------------------------------------------\u001b[0m",
      "\u001b[1;31mAttributeError\u001b[0m                            Traceback (most recent call last)",
      "\u001b[1;32mc:\\desenvolvimento\\python\\python_estudos\\fileInfo.ipynb Cell 2\u001b[0m line \u001b[0;36m1\n\u001b[0;32m     <a href='vscode-notebook-cell:/c%3A/desenvolvimento/python/python_estudos/fileInfo.ipynb#W1sZmlsZQ%3D%3D?line=11'>12</a>\u001b[0m \u001b[39mprint\u001b[39m(\u001b[39mf\u001b[39m\u001b[39m'\u001b[39m\u001b[39mrelease_date: \u001b[39m\u001b[39m{\u001b[39;00maudiofile\u001b[39m.\u001b[39mtag\u001b[39m.\u001b[39mrelease_date\u001b[39m}\u001b[39;00m\u001b[39m'\u001b[39m)\n\u001b[0;32m     <a href='vscode-notebook-cell:/c%3A/desenvolvimento/python/python_estudos/fileInfo.ipynb#W1sZmlsZQ%3D%3D?line=12'>13</a>\u001b[0m \u001b[39mprint\u001b[39m(\u001b[39mf\u001b[39m\u001b[39m'\u001b[39m\u001b[39mcomments:\u001b[39m\u001b[39m{\u001b[39;00maudiofile\u001b[39m.\u001b[39mtag\u001b[39m.\u001b[39mcomments\u001b[39m}\u001b[39;00m\u001b[39m'\u001b[39m)\n\u001b[1;32m---> <a href='vscode-notebook-cell:/c%3A/desenvolvimento/python/python_estudos/fileInfo.ipynb#W1sZmlsZQ%3D%3D?line=13'>14</a>\u001b[0m \u001b[39mprint\u001b[39m(\u001b[39mf\u001b[39m\u001b[39m'\u001b[39m\u001b[39mlyrics: \u001b[39m\u001b[39m{\u001b[39;00maudiofile\u001b[39m.\u001b[39;49mtag\u001b[39m.\u001b[39;49mlyrics\u001b[39m.\u001b[39;49mtext\u001b[39m}\u001b[39;00m\u001b[39m'\u001b[39m)\n\u001b[0;32m     <a href='vscode-notebook-cell:/c%3A/desenvolvimento/python/python_estudos/fileInfo.ipynb#W1sZmlsZQ%3D%3D?line=14'>15</a>\u001b[0m \u001b[39mprint\u001b[39m(\u001b[39mf\u001b[39m\u001b[39m'\u001b[39m\u001b[39mimage: \u001b[39m\u001b[39m{\u001b[39;00maudiofile\u001b[39m.\u001b[39mtag\u001b[39m.\u001b[39mimages\u001b[39m}\u001b[39;00m\u001b[39m'\u001b[39m)\n\u001b[0;32m     <a href='vscode-notebook-cell:/c%3A/desenvolvimento/python/python_estudos/fileInfo.ipynb#W1sZmlsZQ%3D%3D?line=15'>16</a>\u001b[0m \u001b[39mprint\u001b[39m(\u001b[39mf\u001b[39m\u001b[39m'\u001b[39m\u001b[39malbum_artist: \u001b[39m\u001b[39m{\u001b[39;00maudiofile\u001b[39m.\u001b[39mtag\u001b[39m.\u001b[39malbum_artist\u001b[39m}\u001b[39;00m\u001b[39m'\u001b[39m)\n",
      "\u001b[1;31mAttributeError\u001b[0m: 'LyricsAccessor' object has no attribute 'text'"
     ]
    }
   ],
   "source": [
    "pasta = 'C:\\\\temp\\\\teste'\n",
    "caminhos = [os.path.join(pasta, nome) for nome in os.listdir(pasta)]\n",
    "arquivos = [arq for arq in caminhos if os.path.isfile(arq)]\n",
    "\n",
    "for caminho in caminhos:\n",
    "    audiofile = eyed3.load(caminho)\n",
    "    print(f'title: {audiofile.tag.title}')\n",
    "    print(f'artist: {audiofile.tag.artist}')\n",
    "    print(f'album: {audiofile.tag.album}')\n",
    "    print(f'track: {audiofile.tag.track_num}')\n",
    "    print(f'genre: {audiofile.tag.genre}')\n",
    "    print(f'release_date: {audiofile.tag.release_date}')\n",
    "    print(f'comments:{audiofile.tag.comments}')\n",
    "    print(f'lyrics: {audiofile.tag.lyrics}')\n",
    "    print(f'image: {audiofile.tag.images}')\n",
    "    print(f'album_artist: {audiofile.tag.album_artist}')\n",
    "    print(f'composer: {audiofile.tag.composer}')\n",
    "    print(f'publisher:{audiofile.tag.publisher}')\n",
    "    print(f'recoding_date: {audiofile.tag.recording_date}')\n",
    "    print(f'encoding_date: {audiofile.tag.encoding_date}')\n",
    "    print(f'tagging_date: {audiofile.tag.tagging_date}')\n",
    "    print(f'images: {audiofile.tag.images}')\n",
    "    print(f'album_type: {audiofile.tag.album_type}')\n",
    "    print(f'bpm: {audiofile.tag.bpm}')\n",
    "    #print(f'disc_num: {audiofile.tag.disc_num}')\n",
    "    #print(f'play_count: {audiofile.tag.play_count}')\n",
    "    #print(f'skip_count: {audiofile.tag.skip_count}')\n",
    "    #print(f'rating: {audiofile.tag.rating}')\n",
    "    print(f'file_info: {audiofile.tag.file_info}')\n",
    "    print(f'file_size_bytes: {audiofile.tag.file_info.size_bytes}')\n",
    "    print(f'file_size_packed: {audiofile.tag.file_info.size_packed}')"
   ]
  },
  {
   "cell_type": "code",
   "execution_count": 21,
   "metadata": {},
   "outputs": [
    {
     "name": "stdout",
     "output_type": "stream",
     "text": [
      "9928285\n",
      "1714390480.1683018\n",
      "1714390458.3010762\n",
      "..\\..\\..\\temp\\teste\\spotifydown.com - Broken Bones.mp3\n"
     ]
    }
   ],
   "source": [
    "for caminho in caminhos:\n",
    "    print(os.path.getsize(caminho))\n",
    "    print(os.path.getmtime(caminho))\n",
    "    print(os.path.getctime(caminho))\n",
    "    print(os.path.relpath(caminho))\n",
    "    #print(os.stat(caminho))"
   ]
  },
  {
   "cell_type": "code",
   "execution_count": 22,
   "metadata": {},
   "outputs": [
    {
     "name": "stdout",
     "output_type": "stream",
     "text": [
      "9928285\n",
      "1714390480.1683018\n"
     ]
    }
   ],
   "source": [
    "import os\n",
    "\n",
    "files = os.listdir(pasta)\n",
    "filename = os.path.join(pasta, files[0])\n",
    "\n",
    "stats = os.stat(filename)\n",
    "\n",
    "print(stats.st_size)\n",
    "print(stats.st_mtime)"
   ]
  },
  {
   "cell_type": "code",
   "execution_count": 26,
   "metadata": {},
   "outputs": [
    {
     "name": "stdout",
     "output_type": "stream",
     "text": [
      "Last modified: Mon Apr 29 08:34:40 2024\n",
      "Created: Mon Apr 29 08:34:18 2024\n",
      "Size: 9928285\n",
      "Absolute path: C:\\temp\\teste\\spotifydown.com - Broken Bones.mp3\n",
      "Relative path: ..\\..\\..\\temp\\teste\\spotifydown.com - Broken Bones.mp3\n",
      "Directory name: C:\\temp\\teste\n",
      "Base name: spotifydown.com - Broken Bones.mp3\n",
      "File name without extension: C:\\temp\\teste\\spotifydown.com - Broken Bones\n",
      "File extension: .mp3\n",
      "File name and extension: spotifydown.com - Broken Bones.mp3\n",
      "File name and extension in uppercase: SPOTIFYDOWN.COM - BROKEN BONES.MP3\n",
      "File name and extension in lowercase: spotifydown.com - broken bones.mp3\n",
      "File name and extension in title case: Spotifydown.Com - Broken Bones.Mp3\n",
      "File name and extension in sentence case: Spotifydown.com - broken bones.mp3\n",
      "File name and extension with each word capitalized: Spotifydown.Com - Broken Bones.Mp3\n"
     ]
    }
   ],
   "source": [
    "# Import the 'os.path' and 'time' modules to work with file system paths and timestamps.\n",
    "import os.path, time\n",
    "\n",
    "# Print the last modified timestamp of the file \"test.txt\" in a human-readable format.\n",
    "print(\"Last modified: %s\" % time.ctime(os.path.getmtime(filename)))\n",
    "\n",
    "# Print the creation timestamp of the file \"test.txt\" in a human-readable format.\n",
    "print(\"Created: %s\" % time.ctime(os.path.getctime(filename)))\n",
    "\n",
    "# Print the size of the file \"test.txt\" in bytes.\n",
    "print(\"Size: %s\" % os.path.getsize(filename))\n",
    "\n",
    "# Print the absolute path of the file \"test.txt\".\n",
    "print(\"Absolute path: %s\" % os.path.abspath(filename))\n",
    "\n",
    "# Print the relative path of the file \"test.txt\" from the current working directory.\n",
    "print(\"Relative path: %s\" % os.path.relpath(filename))\n",
    "\n",
    "# Print the directory name of the file \"test.txt\".\n",
    "print(\"Directory name: %s\" % os.path.dirname(filename))\n",
    "\n",
    "# Print the base name of the file \"test.txt\".\n",
    "print(\"Base name: %s\" % os.path.basename(filename))\n",
    "\n",
    "# Print the file name without the extension of the file \"test.txt\".\n",
    "print(\"File name without extension: %s\" % os.path.splitext(filename)[0])\n",
    "\n",
    "# Print the file extension of the file \"test.txt\".\n",
    "print(\"File extension: %s\" % os.path.splitext(filename)[1])\n",
    "\n",
    "# Print the file name and extension of the file \"test.txt\".\n",
    "print(\"File name and extension: %s\" % os.path.basename(filename))\n",
    "\n",
    "# Print the file name and extension of the file \"test.txt\" in uppercase.\n",
    "print(\"File name and extension in uppercase: %s\" % os.path.basename(filename).upper())\n",
    "\n",
    "# Print the file name and extension of the file \"test.txt\" in lowercase.\n",
    "print(\"File name and extension in lowercase: %s\" % os.path.basename(filename).lower())\n",
    "\n",
    "# Print the file name and extension of the file \"test.txt\" in title case.\n",
    "print(\"File name and extension in title case: %s\" % os.path.basename(filename).title())\n",
    "\n",
    "# Print the file name and extension of the file \"test.txt\" in sentence case.\n",
    "print(\"File name and extension in sentence case: %s\" % os.path.basename(filename).capitalize())\n",
    "\n",
    "# Print the file name and extension of the file \"test.txt\" with the first letter of each word capitalized.\n",
    "print(\"File name and extension with each word capitalized: %s\" % os.path.basename(filename).title())"
   ]
  },
  {
   "cell_type": "code",
   "execution_count": 52,
   "metadata": {},
   "outputs": [
    {
     "name": "stdout",
     "output_type": "stream",
     "text": [
      "Data de modificação: 29/04/2024 08:34:40\n",
      "Data de criação: 29/04/2024 08:34:18\n",
      "Último acesso: 29/04/2024 15:47:33\n"
     ]
    }
   ],
   "source": [
    "data_modificacao = time.strftime('%d/%m/%Y %H:%M:%S', time.gmtime(os.path.getmtime(filename)-(3*3600)))\n",
    "data_criacao = time.strftime('%d/%m/%Y %H:%M:%S', time.gmtime(os.path.getctime(filename)-(3*3600)))\n",
    "data_acesso = time.strftime('%d/%m/%Y %H:%M:%S', time.gmtime(os.path.getatime(filename)-(3*3600)))\n",
    "\n",
    "print(f'Data de modificação: {data_modificacao}')\n",
    "print(f'Data de criação: {data_criacao}')\n",
    "print(f'Último acesso: {data_acesso}')"
   ]
  }
 ],
 "metadata": {
  "kernelspec": {
   "display_name": ".venv",
   "language": "python",
   "name": "python3"
  },
  "language_info": {
   "codemirror_mode": {
    "name": "ipython",
    "version": 3
   },
   "file_extension": ".py",
   "mimetype": "text/x-python",
   "name": "python",
   "nbconvert_exporter": "python",
   "pygments_lexer": "ipython3",
   "version": "3.11.3"
  }
 },
 "nbformat": 4,
 "nbformat_minor": 2
}

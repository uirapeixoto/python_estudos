{
 "cells": [
  {
   "cell_type": "code",
   "execution_count": null,
   "metadata": {},
   "outputs": [],
   "source": [
    "#pip install eyed3\n",
    "#pip install pandas"
   ]
  },
  {
   "cell_type": "code",
   "execution_count": 54,
   "metadata": {},
   "outputs": [],
   "source": [
    "import os,time\n",
    "import eyed3\n",
    "import pandas as pd"
   ]
  },
  {
   "cell_type": "code",
   "execution_count": 55,
   "metadata": {},
   "outputs": [],
   "source": [
    "directory = 'C:\\\\temp\\\\teste'"
   ]
  },
  {
   "cell_type": "code",
   "execution_count": 62,
   "metadata": {},
   "outputs": [],
   "source": [
    "def data_source(directory):\n",
    "    retorno = pd.DataFrame(columns=[\"Artista\",\"Musica\",\"Tempo\",\"Arquivo\",\"Tamanho\",\"Criacao\"])\n",
    "    for filename in os.listdir(directory):\n",
    "        if filename.endswith(\".mp3\"):\n",
    "            audiofile = eyed3.load(os.path.join(directory, filename))\n",
    "            item : pd.DataFrame = pd.DataFrame(\n",
    "                {\n",
    "                    'Artista':[audiofile.tag.artist],\n",
    "                    'Musica':[audiofile.tag.title],\n",
    "                    'Tempo':[audiofile.info.time_secs],\n",
    "                    'Arquivo':[filename],\n",
    "                    'Tamanho':[audiofile.info.size_bytes],\n",
    "                    'Criacao':time.strftime('%d/%m/%Y %H:%M:%S', time.gmtime(os.path.getmtime(os.path.join(directory, filename))-(3*3600)))\n",
    "                })\n",
    "            print(item)\n",
    "            retorno = pd.concat([retorno,item], axis=0)\n",
    "    return retorno"
   ]
  },
  {
   "cell_type": "code",
   "execution_count": 63,
   "metadata": {},
   "outputs": [
    {
     "name": "stderr",
     "output_type": "stream",
     "text": [
      "Lame tag CRC check failed\n"
     ]
    },
    {
     "name": "stdout",
     "output_type": "stream",
     "text": [
      "  Artista        Musica  Tempo                             Arquivo  Tamanho  \\\n",
      "0   KALEO  Broken Bones  246.0  spotifydown.com - Broken Bones.mp3  9928285   \n",
      "\n",
      "               Criacao  \n",
      "0  29/04/2024 08:34:40  \n"
     ]
    },
    {
     "name": "stderr",
     "output_type": "stream",
     "text": [
      "C:\\Users\\145769\\AppData\\Local\\Temp\\ipykernel_62404\\3466925374.py:16: FutureWarning: The behavior of DataFrame concatenation with empty or all-NA entries is deprecated. In a future version, this will no longer exclude empty or all-NA columns when determining the result dtypes. To retain the old behavior, exclude the relevant entries before the concat operation.\n",
      "  retorno = pd.concat([retorno,item], axis=0)\n"
     ]
    }
   ],
   "source": [
    "df = data_source(directory)\n"
   ]
  },
  {
   "cell_type": "code",
   "execution_count": 64,
   "metadata": {},
   "outputs": [
    {
     "data": {
      "text/html": [
       "<div>\n",
       "<style scoped>\n",
       "    .dataframe tbody tr th:only-of-type {\n",
       "        vertical-align: middle;\n",
       "    }\n",
       "\n",
       "    .dataframe tbody tr th {\n",
       "        vertical-align: top;\n",
       "    }\n",
       "\n",
       "    .dataframe thead th {\n",
       "        text-align: right;\n",
       "    }\n",
       "</style>\n",
       "<table border=\"1\" class=\"dataframe\">\n",
       "  <thead>\n",
       "    <tr style=\"text-align: right;\">\n",
       "      <th></th>\n",
       "      <th>Artista</th>\n",
       "      <th>Musica</th>\n",
       "      <th>Tempo</th>\n",
       "      <th>Arquivo</th>\n",
       "      <th>Tamanho</th>\n",
       "      <th>Criacao</th>\n",
       "    </tr>\n",
       "  </thead>\n",
       "  <tbody>\n",
       "    <tr>\n",
       "      <th>0</th>\n",
       "      <td>KALEO</td>\n",
       "      <td>Broken Bones</td>\n",
       "      <td>246.0</td>\n",
       "      <td>spotifydown.com - Broken Bones.mp3</td>\n",
       "      <td>9928285</td>\n",
       "      <td>29/04/2024 08:34:40</td>\n",
       "    </tr>\n",
       "  </tbody>\n",
       "</table>\n",
       "</div>"
      ],
      "text/plain": [
       "  Artista        Musica  Tempo                             Arquivo  Tamanho  \\\n",
       "0   KALEO  Broken Bones  246.0  spotifydown.com - Broken Bones.mp3  9928285   \n",
       "\n",
       "               Criacao  \n",
       "0  29/04/2024 08:34:40  "
      ]
     },
     "metadata": {},
     "output_type": "display_data"
    }
   ],
   "source": [
    "display(df)"
   ]
  },
  {
   "cell_type": "code",
   "execution_count": null,
   "metadata": {},
   "outputs": [],
   "source": []
  },
  {
   "cell_type": "code",
   "execution_count": null,
   "metadata": {},
   "outputs": [],
   "source": [
    "\n",
    "def print_artist_and_title(directory):\n",
    "    for filename in os.listdir(directory):\n",
    "        if filename.endswith(\".mp3\"):\n",
    "            audiofile = eyed3.load(os.path.join(directory, filename))\n",
    "            print(f\"Nome do arquivo: {filename}\")\n",
    "            print(f\"Artista: {audiofile.tag.artist}\")\n",
    "            print(f\"Música: {audiofile.tag.title}\")\n",
    "            print(f\"Info: {audiofile.info}\")\n",
    "            print(f\"Tempo em segundos: {audiofile.info.time_secs}\")\n",
    "            print(f\"Tamanho em bytes: {audiofile.info.size_bytes} \\n\")"
   ]
  },
  {
   "cell_type": "code",
   "execution_count": null,
   "metadata": {},
   "outputs": [],
   "source": [
    "dir = 'M:\\\\temp\\\\teste'\n",
    "\n",
    "if os.path.exists(dir):\n",
    "    print('Diretorio encontrado')\n",
    "else:\n",
    "    print(\"Falha ao ler o diretorio\")"
   ]
  },
  {
   "cell_type": "code",
   "execution_count": null,
   "metadata": {},
   "outputs": [],
   "source": [
    "print_artist_and_title(dir)"
   ]
  }
 ],
 "metadata": {
  "kernelspec": {
   "display_name": ".venv",
   "language": "python",
   "name": "python3"
  },
  "language_info": {
   "codemirror_mode": {
    "name": "ipython",
    "version": 3
   },
   "file_extension": ".py",
   "mimetype": "text/x-python",
   "name": "python",
   "nbconvert_exporter": "python",
   "pygments_lexer": "ipython3",
   "version": "3.11.3"
  }
 },
 "nbformat": 4,
 "nbformat_minor": 2
}

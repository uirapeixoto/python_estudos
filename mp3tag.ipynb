{
 "cells": [
  {
   "cell_type": "code",
   "execution_count": null,
   "metadata": {},
   "outputs": [],
   "source": [
    "#pip install eyed3\n",
    "#pip install pandas"
   ]
  },
  {
   "cell_type": "code",
   "execution_count": 1,
   "metadata": {},
   "outputs": [],
   "source": [
    "import os\n",
    "import eyed3\n",
    "import pandas as pd"
   ]
  },
  {
   "cell_type": "code",
   "execution_count": 6,
   "metadata": {},
   "outputs": [],
   "source": [
    "directory = 'M:\\\\temp\\\\teste'"
   ]
  },
  {
   "cell_type": "code",
   "execution_count": 17,
   "metadata": {},
   "outputs": [],
   "source": [
    "def data_source(directory):\n",
    "    retorno = pd.DataFrame(columns=[\"Artista\",\"Musica\", \"Tempo\", \"Tamanho\", \"Arquivo\"])\n",
    "    for filename in os.listdir(directory):\n",
    "        if filename.endswith(\".mp3\"):\n",
    "            audiofile = eyed3.load(os.path.join(directory, filename))\n",
    "            item : pd.DataFrame = pd.DataFrame(\n",
    "                {\n",
    "                    'Artista':[audiofile.tag.artist],\n",
    "                    'Musica':[audiofile.tag.title],\n",
    "                    'Tempo':[audiofile.info.time_secs],\n",
    "                    'Tamanho':[audiofile.info.size_bytes],\n",
    "                    'Arquivo':[filename]\n",
    "                })\n",
    "            print(item)\n",
    "            pd.concat([retorno,item])\n",
    "    return retorno"
   ]
  },
  {
   "cell_type": "code",
   "execution_count": 18,
   "metadata": {},
   "outputs": [
    {
     "name": "stdout",
     "output_type": "stream",
     "text": [
      "  Artista                                             Musica   Tempo  \\\n",
      "0   AC/DC  Back In Black - Live at River Plate Stadium, B...  255.09   \n",
      "\n",
      "    Tamanho                                            Arquivo  \n",
      "0  10243457  ACDC - Back In Black - Live at River Plate Sta...  \n"
     ]
    },
    {
     "data": {
      "text/html": [
       "<div>\n",
       "<style scoped>\n",
       "    .dataframe tbody tr th:only-of-type {\n",
       "        vertical-align: middle;\n",
       "    }\n",
       "\n",
       "    .dataframe tbody tr th {\n",
       "        vertical-align: top;\n",
       "    }\n",
       "\n",
       "    .dataframe thead th {\n",
       "        text-align: right;\n",
       "    }\n",
       "</style>\n",
       "<table border=\"1\" class=\"dataframe\">\n",
       "  <thead>\n",
       "    <tr style=\"text-align: right;\">\n",
       "      <th></th>\n",
       "      <th>Artista</th>\n",
       "      <th>Musica</th>\n",
       "      <th>Tempo</th>\n",
       "      <th>Tamanho</th>\n",
       "      <th>Arquivo</th>\n",
       "    </tr>\n",
       "  </thead>\n",
       "  <tbody>\n",
       "  </tbody>\n",
       "</table>\n",
       "</div>"
      ],
      "text/plain": [
       "Empty DataFrame\n",
       "Columns: [Artista, Musica, Tempo, Tamanho, Arquivo]\n",
       "Index: []"
      ]
     },
     "execution_count": 18,
     "metadata": {},
     "output_type": "execute_result"
    }
   ],
   "source": [
    "df = data_source(directory)\n",
    "df.head()"
   ]
  },
  {
   "cell_type": "code",
   "execution_count": null,
   "metadata": {},
   "outputs": [],
   "source": []
  },
  {
   "cell_type": "code",
   "execution_count": 2,
   "metadata": {},
   "outputs": [],
   "source": [
    "\n",
    "def print_artist_and_title(directory):\n",
    "    for filename in os.listdir(directory):\n",
    "        if filename.endswith(\".mp3\"):\n",
    "            audiofile = eyed3.load(os.path.join(directory, filename))\n",
    "            print(f\"Nome do arquivo: {filename}\")\n",
    "            print(f\"Artista: {audiofile.tag.artist}\")\n",
    "            print(f\"Música: {audiofile.tag.title}\")\n",
    "            print(f\"Info: {audiofile.info}\")\n",
    "            print(f\"Tempo em segundos: {audiofile.info.time_secs}\")\n",
    "            print(f\"Tamanho em bytes: {audiofile.info.size_bytes} \\n\")"
   ]
  },
  {
   "cell_type": "code",
   "execution_count": 4,
   "metadata": {},
   "outputs": [
    {
     "name": "stdout",
     "output_type": "stream",
     "text": [
      "Diretorio encontrado\n"
     ]
    }
   ],
   "source": [
    "dir = 'M:\\\\temp\\\\teste'\n",
    "\n",
    "if os.path.exists(dir):\n",
    "    print('Diretorio encontrado')\n",
    "else:\n",
    "    print(\"Falha ao ler o diretorio\")"
   ]
  },
  {
   "cell_type": "code",
   "execution_count": 5,
   "metadata": {},
   "outputs": [
    {
     "name": "stdout",
     "output_type": "stream",
     "text": [
      "Nome do arquivo: ACDC - Back In Black - Live at River Plate Stadium, Buenos Aires, Argentina - December 2009.mp3\n",
      "Artista: AC/DC\n",
      "Música: Back In Black - Live at River Plate Stadium, Buenos Aires, Argentina - December 2009\n",
      "Info: Mp3AudioInfo(time_secs=255.09, size_bytes=10243457)\n",
      "Tempo em segundos: 255.09\n",
      "Tamanho em bytes: 10243457 \n",
      "\n"
     ]
    }
   ],
   "source": [
    "print_artist_and_title(dir)"
   ]
  }
 ],
 "metadata": {
  "kernelspec": {
   "display_name": ".venv",
   "language": "python",
   "name": "python3"
  },
  "language_info": {
   "codemirror_mode": {
    "name": "ipython",
    "version": 3
   },
   "file_extension": ".py",
   "mimetype": "text/x-python",
   "name": "python",
   "nbconvert_exporter": "python",
   "pygments_lexer": "ipython3",
   "version": "3.9.2"
  }
 },
 "nbformat": 4,
 "nbformat_minor": 2
}

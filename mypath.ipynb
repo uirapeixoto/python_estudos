{
 "cells": [
  {
   "cell_type": "code",
   "execution_count": 1,
   "metadata": {},
   "outputs": [],
   "source": [
    "import os\n",
    "import sys"
   ]
  },
  {
   "cell_type": "code",
   "execution_count": 2,
   "metadata": {},
   "outputs": [],
   "source": [
    "def count_py_files_in_repos(dirname):\n",
    "    if os.path.exists(os.path.join(dirname, '.git')):\n",
    "        count = 0\n",
    "        for root, dirs, files in os.walk(dirname):\n",
    "            count += len([f for f in files if f.endswith('.cs')])\n",
    "            print(f'{root} has {count} C# Files'.format(dirname, count))\n",
    "    \n",
    "    for name in os.listdir(dirname):\n",
    "        path = os.path.join(dirname, name)\n",
    "        if os.path.isdir(path):\n",
    "            count_py_files_in_repos(path)\n",
    "\n",
    "        "
   ]
  },
  {
   "cell_type": "code",
   "execution_count": 4,
   "metadata": {
    "tags": [
     "outputPrepend"
    ]
   },
   "outputs": [],
   "source": [
    "dirname = 'G:/Wizsolucoes/validacaohabitacional/validacaohabitacional-api'\n",
    "count_py_files_in_repos(dirname)\n"
   ]
  },
  {
   "cell_type": "code",
   "execution_count": null,
   "metadata": {},
   "outputs": [],
   "source": []
  }
 ],
 "metadata": {
  "kernelspec": {
   "display_name": "Python 3.9.0 64-bit",
   "metadata": {
    "interpreter": {
     "hash": "858570645338ed5492d35a72f992126af68c5248284c7221b9a80944aeea7fe5"
    }
   },
   "name": "python3"
  },
  "language_info": {
   "codemirror_mode": {
    "name": "ipython",
    "version": 3
   },
   "file_extension": ".py",
   "mimetype": "text/x-python",
   "name": "python",
   "nbconvert_exporter": "python",
   "pygments_lexer": "ipython3",
   "version": "3.11.3"
  },
  "orig_nbformat": 2
 },
 "nbformat": 4,
 "nbformat_minor": 2
}
